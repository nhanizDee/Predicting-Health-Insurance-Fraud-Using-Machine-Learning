{
 "cells": [
  {
   "cell_type": "markdown",
   "id": "f145d762",
   "metadata": {},
   "source": [
    "# Predicting Health Insurance Fraud Using Machine Learning"
   ]
  },
  {
   "cell_type": "markdown",
   "id": "c27b5d55",
   "metadata": {},
   "source": [
    "### Group 2: Nhan Nguyen, Tan Nguyen, Andre Serna"
   ]
  },
  {
   "cell_type": "markdown",
   "id": "e85a6690",
   "metadata": {},
   "source": [
    "<h2>I. Introduction</h2>"
   ]
  },
  {
   "cell_type": "markdown",
   "id": "b7103032",
   "metadata": {},
   "source": [
    "Healthcare fraud is a pervasive issue that has significant financial, ethical, and operational implications, affecting government programs, insurance companies, healthcare providers, and patients alike. Fraudulent activities in healthcare result in billions of dollars in financial losses annually, placing a burden on both public and private insurers while increasing overall healthcare costs. The **National Health Care Anti-Fraud Association (NHCAA)** estimates that healthcare fraud costs the United States **tens of billions of dollars each year**, affecting the efficiency and sustainability of healthcare programs.\n",
    "\n",
    "Fraud in health insurance can manifest in various forms, including **phantom billing** (charging for services never provided), **upcoding** (billing for more expensive procedures than those performed), **unbundling** (separating services that should be billed together), **duplicate billing**, and **identity fraud**. These fraudulent activities exploit loopholes in the billing system, making them difficult to detect through traditional rule-based fraud detection techniques. Most existing fraud detection methods rely on manual audits, predefined rules, and expert-based reviews, which are labor-intensive, time-consuming, and ineffective against evolving fraudulent schemes.\n",
    "\n",
    "Machine learning (ML) and data-driven analytics have emerged as effective solutions for fraud detection in healthcare by leveraging large datasets to identify patterns indicative of fraudulent behavior. Unlike static rule-based systems, ML models can dynamically analyze vast amounts of healthcare claims data, recognize hidden anomalies, and detect fraud more accurately over time. ML-based fraud detection systems also reduce false positives, allowing investigators to focus on high-risk claims while minimizing disruptions for legitimate providers.\n",
    "\n",
    "This project aims to build a **robust fraud detection model** that can accurately distinguish fraudulent from non-fraudulent claims using a **combination of supervised and unsupervised machine learning techniques**. The analysis will be conducted using **three key datasets**:\n",
    "- **CMS Medicare Data** – A large dataset of Medicare claims providing insight into billing practices.\n",
    "- **Kaggle Healthcare Fraud Dataset** – A labeled dataset containing known cases of fraudulent providers.\n",
    "- **Synthea Synthetic Data** – A simulated dataset modeling real-world healthcare scenarios to enhance training and testing.\n",
    "\n",
    "By integrating these datasets, we aim to develop an **intelligent fraud detection system** that utilizes **statistical learning techniques from An Introduction to Statistical Learning (ISL)** to enhance fraud identification. The results of this study will contribute to more effective fraud prevention strategies, reducing financial losses and improving healthcare system integrity.\n",
    "\n",
    "---"
   ]
  },
  {
   "cell_type": "markdown",
   "id": "2569c837",
   "metadata": {},
   "source": [
    "<h2>II. Data</h2>"
   ]
  },
  {
   "cell_type": "markdown",
   "id": "5fb653f2",
   "metadata": {},
   "source": [
    "This study aims to **develop predictive models to identify fraudulent health insurance claims using machine learning techniques**. To accomplish this, we will integrate data from three key sources that provide a holistic view of provider behavior, billing trends, and synthetic healthcare claims:"
   ]
  },
  {
   "cell_type": "markdown",
   "id": "13e3865b",
   "metadata": {},
   "source": [
    "### **1. Medicare Physician & Other Practitioners Data (CMS)**\n",
    "\n",
    "- **Source:** [CMS Medicare Data](https://data.cms.gov/provider-summary-by-type-of-service/medicare-physician-other-practitioners)\n",
    "\n",
    "### **Observations**\n",
    "- Estimated millions of records per year.\n",
    "\n",
    "### **Data Description**\n",
    "- This dataset provides aggregated Medicare billing data, categorized by provider geography (state or national level) and specific services rendered.\n",
    "- It includes key Medicare payment metrics, allowing analysis of billing patterns across different regions and providers.\n",
    "- **The dataset is organized at two levels:**\n",
    "  - **State-level aggregation** – Billing summarized per state.\n",
    "  - **National-level aggregation** – Billing summarized across all states.\n",
    "\n",
    "### **Key Variables from the CMS Data Dictionary**\n",
    "- **Rndrng_Prvdr_Geo_Lvl** – Geographic level (State/National).\n",
    "- **Rndrng_Prvdr_Geo_Cd** – FIPS code for the provider’s state.\n",
    "- **Rndrng_Prvdr_Geo_Desc** – State name where the provider is located.\n",
    "- **HCPCS_Cd** – HCPCS medical service code (CPT codes included).\n",
    "- **HCPCS_Desc** – Description of the medical service provided.\n",
    "- **HCPCS_Drug_Ind** – Indicator for Medicare Part B drugs.\n",
    "- **Place_Of_Srvc** – Facility type (F = Facility, O = Office).\n",
    "- **Tot_Rndrng_Prvdrs** – Number of providers rendering the service.\n",
    "- **Tot_Srvcs** – Total services performed.\n",
    "- **Tot_Benes** – Number of distinct Medicare beneficiaries served.\n",
    "- **Tot_Bene_Day_Srvcs** – Unique services per beneficiary per day.\n",
    "- **Avg_Sbmtd_Chrg** – Average submitted charge amount.\n",
    "- **Avg_Mdcr_Alowd_Amt** – Average Medicare allowed amount.\n",
    "- **Avg_Mdcr_Pymt_Amt** – Average Medicare payment amount.\n",
    "- **Avg_Mdcr_Stdzd_Amt** – Standardized Medicare payment (adjusted for location differences).\n",
    "\n",
    "### **How It Was Collected**\n",
    "- This dataset is compiled from Medicare claims, submitted by healthcare providers.\n",
    "- It is updated annually and includes detailed payment structures and billing codes.\n",
    "\n",
    "### **Why This Dataset Was Chosen**\n",
    "- It allows us to analyze provider billing trends and detect anomalies.\n",
    "- Helps in identifying potential fraud indicators, such as excessive billing, duplicate charges, or unusual regional patterns.\n",
    "\n",
    "\n"
   ]
  },
  {
   "cell_type": "markdown",
   "id": "eebfc198",
   "metadata": {},
   "source": [
    "### 2. Healthcare Provider Fraud Detection Analysis (Kaggle)\n",
    "\n",
    "- **Source:** [Kaggle Dataset](https://www.kaggle.com/datasets/rohitrox/healthcare-provider-fraud-detection-analysis)\n",
    "\n",
    "### **Observations**\n",
    "- The dataset contains **8 CSV files**, separated into **training and test datasets** for model development and evaluation.\n",
    "- It consists of **167 columns**, representing different variables related to healthcare provider claims, patient conditions, and reimbursement details.\n",
    "- The dataset includes **104 string variables**, **46 integer variables**, **14 datetime variables**, and **3 other types of variables**.\n",
    "\n",
    "### **Data Description**\n",
    "- This dataset is designed to support the analysis of **fraudulent behaviors among healthcare providers** by examining various factors such as billing patterns, service types, patient conditions, and claim amounts.\n",
    "- **It provides labeled data**, making it suitable for supervised machine learning approaches to fraud detection.\n",
    "- The dataset contains **a mix of categorical, numerical, and time-based variables**, allowing for a comprehensive analysis of fraudulent trends over time.\n",
    "\n",
    "### **Variable Summary**\n",
    "- **String Variables (104)** – Includes categorical data such as provider names, patient demographics, and diagnosis codes.\n",
    "- **Integer Variables (46)** – Contains numerical counts such as claim amounts, reimbursement values, and service counts.\n",
    "- **Datetime Variables (14)** – Represents timestamps related to admission, discharge, and claim submission dates.\n",
    "- **Other Variables (3)** – Includes specialized data types used for internal processing.\n",
    "\n",
    "### **How It Was Collected**\n",
    "- This dataset aggregates information from **real-world healthcare provider claims** and **fraud investigations**, making it a valuable resource for developing machine learning models.\n",
    "- The dataset includes labeled fraud cases, allowing researchers to study **patterns of fraudulent behavior based on past investigations**.\n",
    "- Data was collected from **insurance claims and medical records**, covering a broad range of patient-provider interactions.\n",
    "\n",
    "### **Why This Dataset Was Chosen**\n",
    "- **Supervised Learning Capability**: The dataset includes a `PotentialFraud` label, making it useful for training **classification models** to detect fraud.\n",
    "- **Rich Feature Set**: With **167 variables**, the dataset provides diverse information, allowing for deep fraud analysis across **billing behaviors, medical conditions, and provider characteristics**.\n",
    "- **Real-World Relevance**: The dataset reflects actual insurance claims and fraud detection practices, making it applicable to **healthcare fraud prevention strategies** in the real world.\n",
    "\n",
    "---\n",
    "\n",
    "This dataset plays a **crucial role** in our project, serving as the **primary labeled dataset** for training machine learning models to **identify fraudulent healthcare providers**.\n"
   ]
  },
  {
   "cell_type": "markdown",
   "id": "8db614e7",
   "metadata": {},
   "source": [
    "### 3. Synthea Synthetic Patient Data\n",
    "\n",
    "- **Source:** [Synthea Downloads](https://synthea.mitre.org/downloads)\n",
    "\n",
    "### **Observations**\n",
    "- The dataset consists of multiple CSV files, each representing different aspects of **synthetic patient health records**.\n",
    "- It includes **a comprehensive set of simulated healthcare data**, covering **millions of patient records**.\n",
    "- The dataset contains various data types, including **categorical, numerical, and time-based information**.\n",
    "\n",
    "### **Data Description**\n",
    "- Synthea generates **realistic but fully synthetic** healthcare records, ensuring privacy compliance while enabling large-scale health data analysis.\n",
    "- The dataset provides a **complete longitudinal history** for each patient, simulating events from birth to death.\n",
    "- It is structured to mirror real-world **Electronic Health Records (EHRs)** and includes multiple categories of healthcare interactions.\n",
    "\n",
    "### **Variable Summary**\n",
    "- **Demographics** – Patient age, gender, race, ethnicity, and social determinants of health.\n",
    "- **Encounters** – Records of patient visits to healthcare providers, including visit dates and types.\n",
    "- **Conditions** – Diagnosed diseases and medical conditions with onset and resolution dates.\n",
    "- **Medications** – Prescribed medications, including dosages and administration timelines.\n",
    "- **Procedures** – Medical procedures performed, along with associated billing codes.\n",
    "- **Observations** – Clinical measures such as lab test results and vital signs.\n",
    "- **Allergies** – Documented allergic reactions and substances.\n",
    "- **Immunizations** – Vaccination records for each patient.\n",
    "- **Care Plans** – Treatment strategies and follow-up care details.\n",
    "- **Time-Based Information** – Admission and discharge dates, procedure timestamps.\n",
    "\n",
    "### **How It Was Collected**\n",
    "- The dataset is generated using **Synthea**, an open-source patient data simulation tool.\n",
    "- It is based on **clinical models and publicly available health data sources**, such as CDC and NIH guidelines.\n",
    "- The simulation process replicates **disease progression, medical interventions, and patient-provider interactions**.\n",
    "- Since the data is **entirely synthetic**, it does not contain any **real patient information**, ensuring privacy and unrestricted research use.\n",
    "\n",
    "### **Why This Dataset Was Chosen**\n",
    "- **Privacy-Safe Data**: Unlike real-world medical records, this dataset poses **no privacy concerns**, making it ideal for unrestricted analysis.\n",
    "- **Comprehensive Medical Records**: The dataset includes a **full spectrum of patient health information**, covering conditions, treatments, and billing events.\n",
    "- **Standardized Formats**: Available in CSV, FHIR, and C-CDA formats, ensuring compatibility with various healthcare data analysis tools.\n",
    "- **Scalability**: The dataset can simulate **millions of patients**, allowing researchers to test models on large-scale medical datasets.\n",
    "\n",
    "---\n",
    "\n",
    "This dataset plays a **critical role** in our project, providing **a synthetic yet realistic representation of patient-provider interactions**, which can be used to **train and evaluate fraud detection models** without violating privacy laws."
   ]
  },
  {
   "cell_type": "markdown",
   "id": "603b0bb6",
   "metadata": {},
   "source": [
    "<p>Each dataset will be preprocessed and merged based on key attributes such as NPI (National Provider Identifier) and geographic information.</p>\n",
    "    "
   ]
  },
  {
   "cell_type": "markdown",
   "id": "008f2525",
   "metadata": {},
   "source": [
    " <h2>III. Methods</h2>"
   ]
  },
  {
   "cell_type": "markdown",
   "id": "47b22df8",
   "metadata": {},
   "source": [
    "### **Overview of Approach**\n",
    "To build an effective fraud detection model, we adopt a structured methodology that follows the techniques covered in **An Introduction to Statistical Learning (ISL)**. This approach ensures our methodology is statistically robust while remaining interpretable and effective in detecting fraudulent claims.\n",
    "\n",
    "The following steps outline the methodology for fraud detection:\n",
    "\n",
    "### **3.1 Data Preprocessing & Preparation**\n",
    "Before applying machine learning models, we need to ensure that the datasets are **cleaned, merged, and transformed** into a structured format for analysis. \n",
    "- **Data Cleaning & Merging**:\n",
    "  - Remove duplicates, missing values, and inconsistencies.\n",
    "  - Merge datasets from **CMS, Kaggle, and Synthea** to create a unified dataset.\n",
    "  - Standardize numerical values (e.g., claim amounts, reimbursement fees) and encode categorical variables (e.g., provider type, patient demographics).\n",
    "\n",
    "- **Train-Test Split & Resampling**:\n",
    "  - The cleaned dataset will be split into **training (80%) and test (20%)** sets.\n",
    "  - Since fraud cases are often **imbalanced**, we will apply **resampling techniques** such as **oversampling (SMOTE) or undersampling** to ensure a balanced distribution of fraudulent and non-fraudulent claims.\n",
    "\n",
    "### **3.2 Initial Statistical Analysis & Regression Models**\n",
    "To establish a baseline, we will first apply **linear models and generalized linear models (GLMs)** before progressing to advanced methods.\n",
    "\n",
    "- **Logistic Regression** (Chapter 4, ISL):\n",
    "  - Models fraud as a **binary classification problem**.\n",
    "  - Provides interpretable coefficients to identify **risk factors** for fraud.\n",
    "\n",
    "- **Multiple Logistic Regression**:\n",
    "  - Extends logistic regression by incorporating multiple predictors, allowing a deeper understanding of fraud patterns.\n",
    "  - Identifies **significant variables contributing to fraudulent claims**.\n",
    "\n",
    "- **Generalized Additive Models (GAMs)** (Chapter 7, ISL):\n",
    "  - Handles **non-linear relationships** between fraud likelihood and billing trends.\n",
    "  - Allows smooth, interpretable variable interactions for improved prediction accuracy.\n",
    "\n",
    "### **3.3 Advanced Machine Learning Models**\n",
    "Once the initial models provide insight, we move toward **more sophisticated models** for better fraud classification:\n",
    "\n",
    "- **Decision Trees & Bagging (Random Forests)** (Chapter 8, ISL):\n",
    "  - Decision Trees identify key fraud indicators **through feature importance analysis**.\n",
    "  - Random Forests aggregate multiple decision trees to improve **robustness and accuracy**.\n",
    "\n",
    "- **Support Vector Machines (SVM)** (Chapter 9, ISL):\n",
    "  - Effective for handling **high-dimensional fraud classification problems**.\n",
    "  - Uses **kernel tricks** to detect non-linear patterns in fraud.\n",
    "\n",
    "- **Boosting Methods (Gradient Boosting, AdaBoost)**:\n",
    "  - Enhances model performance by reducing **bias and variance**.\n",
    "  - XGBoost optimizes decision tree ensembles, while AdaBoost improves weak learners.\n",
    "\n",
    "### **3.4 Clustering for Fraud Detection**\n",
    "To further refine fraud detection, we incorporate **unsupervised learning techniques** from ISL:\n",
    "\n",
    "- **K-Means Clustering** (Chapter 10, ISL):\n",
    "  - Groups similar providers and claims to detect **unusual billing patterns**.\n",
    "  - Useful for **unsupervised fraud detection** when labeled fraud data is unavailable.\n",
    "\n",
    "- **Hierarchical Clustering**:\n",
    "  - Identifies provider groups with **similar fraud risk characteristics**.\n",
    "\n",
    "### **3.5 Model Evaluation & Optimization**\n",
    "To ensure model effectiveness, we will use various **evaluation metrics** from ISL:\n",
    "- **Confusion Matrix & Precision-Recall Curve** – Measures fraud detection accuracy and trade-offs.\n",
    "- **Cross-validation (Chapter 5, ISL)** – Ensures model generalization.\n",
    "\n",
    "### **Conclusion**\n",
    "This structured methodology ensures a **comprehensive approach** to fraud detection, integrating **statistical learning techniques from ISL, machine learning methods, and clustering for anomaly detection**. By progressively refining our models, we aim to build a robust system capable of identifying fraudulent claims with **high precision and real-world applicability**.\n"
   ]
  },
  {
   "cell_type": "markdown",
   "id": "0d1b630e",
   "metadata": {},
   "source": [
    "<h2>IV. Review of Earlier Work</h2>"
   ]
  },
  {
   "cell_type": "markdown",
   "id": "d2dc4770",
   "metadata": {},
   "source": [
    "\n",
    "Existing research in healthcare fraud detection has demonstrated that integrating multiple datasets and leveraging machine learning techniques significantly improves predictive performance. Various studies have explored the effectiveness of **supervised and unsupervised learning methods** in fraud classification, providing valuable insights into model selection and data handling challenges.\n",
    "\n",
    "### **4.1 Fraud Detection Using CMS Medicare Data**\n",
    "\n",
    "Several studies have focused on analyzing Medicare data to identify fraudulent billing patterns. A study titled **\"Big Data Fraud Detection Using Multiple Medicare Data Sources\"** explored the use of machine learning models on publicly available Medicare data to detect fraudulent providers. Researchers applied **decision trees, random forests, and ensemble learning methods** to analyze billing patterns, identifying anomalies indicative of fraudulent activities. The study concluded that **random forests provided the best trade-off between accuracy and interpretability** in fraud detection ([Springer Journal of Big Data](https://journalofbigdata.springeropen.com/articles/10.1186/s40537-018-0138-3)).\n",
    "\n",
    "Another study, **\"Medicare Fraud Detection Through Big Data and Machine Learning Models,\"** focused on analyzing open data to predict and detect fraudulent Medicare providers. By examining provider claim patterns and integrating geo-demographic metrics, the study identified various fraud schemes, including excessive billing, unnecessary medical procedures, and prescription abuse ([GitHub CMS Fraud Detection](https://github.com/Pyligent/CMS-Medicare-Data-FRAUD-Detection)).\n",
    "\n",
    "### **4.2 Fraud Detection Using Kaggle Healthcare Provider Data**\n",
    "\n",
    "The **\"Healthcare Provider Fraud Detection Analysis\"** dataset on Kaggle has been widely used to train fraud detection models. Researchers have applied **logistic regression, gradient boosting, and support vector machines (SVMs)** to classify providers as fraudulent or non-fraudulent. One such study, titled **\"Medical Provider Fraud Detection Using Machine Learning,\"** implemented multiple classification algorithms and found that **XGBoost outperformed other methods, achieving high precision and recall scores** ([Kaggle Medical Fraud Project](https://www.kaggle.com/code/rohitrox/medical-provider-fraud-detection)).\n",
    "\n",
    "Another study, **\"Healthcare Provider Fraud Detection and Analysis,\"** utilized this dataset to compare feature selection methods and evaluated the impact of different preprocessing techniques on fraud classification performance. The research highlighted the importance of **feature engineering and resampling techniques such as SMOTE** to improve fraud detection accuracy ([Medium Research Post](https://rohansoni-jssaten2019.medium.com/healthcare-provider-fraud-detection-and-analysis-machine-learning-6af6366caff2)).\n",
    "\n",
    "### **4.3 Fraud Detection Using Synthetic Healthcare Data**\n",
    "\n",
    "Synthetic datasets have been employed in fraud detection to mitigate data privacy concerns while maintaining model generalizability. A study titled **\"Optimizing Fraud Detection Models with Synthetic Data: Advancements and Challenges\"** investigated how synthetic data enhances fraud detection models by improving training data diversity. Researchers found that **using synthetic claims data in combination with real-world datasets significantly improved fraud classification performance** ([ResearchGate](https://www.researchgate.net/publication/383232341_Optimizing_Fraud_Detection_Models_with_Synthetic_Data_Advancements_and_Challenges)).\n",
    "\n",
    "In another study, **\"Enhancing AI Fraud Predictive Models with Synthetic Data: A Case Study,\"** researchers utilized synthetic datasets to evaluate deep learning approaches for fraud detection. The study demonstrated that **combining synthetic and real-world data helped mitigate class imbalance issues, leading to higher accuracy in fraud classification** ([Dedomena AI Blog](https://dedomena.ai/blog/enhancing_ai_fraud_predictive_models_with_synthetic_data_a_case_study)).\n",
    "\n",
    "### **4.4 Summary and Contribution of This Project**\n",
    "\n",
    "Building upon these studies, our project integrates **CMS Medicare data, the Kaggle Healthcare Fraud Dataset, and Synthea Synthetic Data** to develop a comprehensive fraud detection model. By combining these datasets, we aim to:\n",
    "- Capture **a diverse range of fraudulent behaviors** across real-world and simulated claims.\n",
    "- Leverage **machine learning techniques from An Introduction to Statistical Learning (ISL)** to enhance fraud classification.\n",
    "- Address challenges such as **imbalanced datasets, feature selection, and interpretability** to build a scalable fraud detection system.\n",
    "\n",
    "The integration of multiple datasets and the application of **robust statistical learning techniques** have been pivotal in advancing fraud detection research. Our project contributes to this growing body of work by developing an interpretable, high-accuracy fraud detection model that can be used by **healthcare providers, insurance companies, and regulatory bodies** to prevent fraudulent claims and reduce financial losses.\n",
    "\n",
    "\n",
    "    "
   ]
  },
  {
   "cell_type": "markdown",
   "id": "99d72219",
   "metadata": {},
   "source": [
    "<h2>V. Tentative Schedule & Task Distribution</h2>"
   ]
  },
  {
   "cell_type": "markdown",
   "id": "5661ada4",
   "metadata": {},
   "source": [
    " <p>The project will follow the schedule below:</p>"
   ]
  },
  {
   "cell_type": "markdown",
   "id": "0b92d0ce",
   "metadata": {},
   "source": [
    "To effectively manage this project, we have assigned tasks among the three team members: **Nhan, Tan, and Andre**. Each member is responsible for different phases of the report and future tasks, ensuring a structured approach to fraud detection research and implementation.\n",
    "\n",
    "### **5.1 Task Assignments**\n",
    "\n",
    "#### **Nhan (Data & Preprocessing Lead)**\n",
    "- Collect, clean, and merge the datasets (**CMS, Kaggle, Synthea**).\n",
    "- Conduct **exploratory data analysis (EDA)** to identify key fraud patterns.\n",
    "- Handle **data balancing (SMOTE, undersampling)** to ensure a fair model.\n",
    "- Generate **feature selection insights** based on statistical learning techniques.\n",
    "\n",
    "#### **Tan (Model Development & Evaluation Lead)**\n",
    "- Implement **baseline models (Logistic Regression, Decision Trees, Random Forests).**\n",
    "- Apply **advanced models (SVM, Boosting, Clustering) for fraud detection.**\n",
    "- Tune hyperparameters using **cross-validation and performance metrics.**\n",
    "- Evaluate model performance using **AUC-ROC, Precision-Recall Curves, and SHAP Analysis.**\n",
    "\n",
    "#### **Andre (Documentation & Research Lead)**\n",
    "- Write and structure the report, ensuring clarity and academic integrity.\n",
    "- Research and document prior works on healthcare fraud detection.\n",
    "- Handle citations and references using proper academic formats.\n",
    "- Assist in interpreting model results and preparing visuals.\n"
   ]
  },
  {
   "cell_type": "markdown",
   "id": "a00310ba",
   "metadata": {},
   "source": [
    "### **5.2 Timeline for the Project**\n",
    "(This is the current itme line, but then can still be adjust)\n",
    "<table>\n",
    "<thead>\n",
    "<tr>\n",
    "<th><strong>Week</strong></th>\n",
    "<th><strong>Tasks</strong></th>\n",
    "<th><strong>Responsible Member(s)</strong></th>\n",
    "</tr>\n",
    "</thead>\n",
    "<tbody>\n",
    "<tr><td><strong>Week 1-2</strong></td><td>Data collection, preprocessing, and exploratory analysis</td><td><strong>Nhan</strong></td></tr>\n",
    "<tr><td><strong>Week 3-4</strong></td><td>Feature selection, data balancing (SMOTE, undersampling)</td><td><strong>Nhan</strong></td></tr>\n",
    "<tr><td><strong>Week 5-6</strong></td><td>Initial model training: Logistic Regression, Decision Trees</td><td><strong>Tan</strong></td></tr>\n",
    "<tr><td><strong>Week 7</strong></td><td>Advanced modeling: SVM, Boosting, Clustering</td><td><strong>Tan</strong></td></tr>\n",
    "<tr><td><strong>Week 8</strong></td><td>Model tuning and hyperparameter optimization</td><td><strong>Tan</strong></td></tr>\n",
    "<tr><td><strong>Week 9</strong></td><td>Evaluation: Precision-Recall, ROC Curves, SHAP Analysis</td><td><strong>Tan, Nhan</strong></td></tr>\n",
    "<tr><td><strong>Week 10</strong></td><td>Documentation & Literature Review</td><td><strong>Andre</strong></td></tr>\n",
    "<tr><td><strong>Week 11-12</strong></td><td>Finalizing report, citations, and presentation preparation</td><td><strong>Andre, Nhan, Tan</strong></td></tr></tbody></table>\n"
   ]
  },
  {
   "cell_type": "markdown",
   "id": "7c2ee791",
   "metadata": {},
   "source": [
    "<h2>VI. Conclusion</h2>"
   ]
  },
  {
   "cell_type": "markdown",
   "id": "d9cd5fdd",
   "metadata": {},
   "source": [
    "This study aims to **develop a robust fraud detection model** by leveraging **statistical learning and machine learning techniques** on **CMS Medicare data, Kaggle Healthcare Fraud datasets, and Synthea synthetic data**. Through rigorous **data preprocessing, model development, and performance evaluation**, we strive to create a scalable and interpretable fraud detection framework that can be utilized by **healthcare providers, insurance companies, and regulatory bodies**.\n",
    "\n",
    "By integrating multiple datasets, using **supervised and unsupervised learning methods**, and incorporating **real-world fraud cases**, this project will contribute to ongoing efforts in **preventing fraudulent claims and reducing financial losses** in the healthcare industry. Future work may explore **deep learning-based fraud detection techniques** and **real-time fraud monitoring systems**.\n"
   ]
  },
  {
   "cell_type": "markdown",
   "id": "38f0bfdb",
   "metadata": {},
   "source": [
    "## References\n",
    "\n",
    "1. **Big Data Fraud Detection Using Multiple Medicare Data Sources** – Springer Journal of Big Data. Available at: [https://journalofbigdata.springeropen.com/articles/10.1186/s40537-018-0138-3](https://journalofbigdata.springeropen.com/articles/10.1186/s40537-018-0138-3)\n",
    "2. **Medicare Fraud Detection Through Big Data and Machine Learning Models** – GitHub CMS Fraud Detection. Available at: [https://github.com/Pyligent/CMS-Medicare-Data-FRAUD-Detection](https://github.com/Pyligent/CMS-Medicare-Data-FRAUD-Detection)\n",
    "3. **Medical Provider Fraud Detection Using Machine Learning** – Kaggle Project. Available at: [https://www.kaggle.com/code/rohitrox/medical-provider-fraud-detection](https://www.kaggle.com/code/rohitrox/medical-provider-fraud-detection)\n",
    "4. **Healthcare Provider Fraud Detection and Analysis Using Machine Learning** – Medium Research Post. Available at: [https://rohansoni-jssaten2019.medium.com/healthcare-provider-fraud-detection-and-analysis-machine-learning-6af6366caff2](https://rohansoni-jssaten2019.medium.com/healthcare-provider-fraud-detection-and-analysis-machine-learning-6af6366caff2)\n",
    "5. **Optimizing Fraud Detection Models with Synthetic Data: Advancements and Challenges** – ResearchGate. Available at: [https://www.researchgate.net/publication/383232341_Optimizing_Fraud_Detection_Models_with_Synthetic_Data_Advancements_and_Challenges](https://www.researchgate.net/publication/383232341_Optimizing_Fraud_Detection_Models_with_Synthetic_Data_Advancements_and_Challenges)\n",
    "6. **Enhancing AI Fraud Predictive Models with Synthetic Data: A Case Study** – Dedomena AI Blog. Available at: [https://dedomena.ai/blog/enhancing_ai_fraud_predictive_models_with_synthetic_data_a_case_study](https://dedomena.ai/blog/enhancing_ai_fraud_predictive_models_with_synthetic_data_a_case_study)\n"
   ]
  },
  {
   "cell_type": "code",
   "execution_count": 3,
   "id": "9bcf56cf",
   "metadata": {},
   "outputs": [],
   "source": [
    "# Import libraries\n",
    "import pandas as pd\n",
    "import numpy as np\n",
    "import matplotlib.pyplot as plt\n",
    "import seaborn as sns\n",
    "\n",
    "# Machine Learning & Preprocessing\n",
    "from sklearn.model_selection import train_test_split\n",
    "from sklearn.preprocessing import LabelEncoder, StandardScaler\n",
    "from imblearn.over_sampling import SMOTE"
   ]
  },
  {
   "cell_type": "code",
   "execution_count": null,
   "id": "75320016",
   "metadata": {},
   "outputs": [],
   "source": []
  }
 ],
 "metadata": {
  "kernelspec": {
   "display_name": "Python [conda env:base] *",
   "language": "python",
   "name": "conda-base-py"
  },
  "language_info": {
   "codemirror_mode": {
    "name": "ipython",
    "version": 3
   },
   "file_extension": ".py",
   "mimetype": "text/x-python",
   "name": "python",
   "nbconvert_exporter": "python",
   "pygments_lexer": "ipython3",
   "version": "3.12.7"
  }
 },
 "nbformat": 4,
 "nbformat_minor": 5
}
