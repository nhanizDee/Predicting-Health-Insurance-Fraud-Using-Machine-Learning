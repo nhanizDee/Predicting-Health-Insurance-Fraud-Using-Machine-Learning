{
 "cells": [
  {
   "cell_type": "markdown",
   "id": "1b40e2ca-7329-401e-92c7-e1b7d3632b4f",
   "metadata": {},
   "source": [
    "# Predicting Health Insurance Fraud Using Machine Learning"
   ]
  },
  {
   "cell_type": "markdown",
   "id": "714dc8d8-a770-40bc-a061-75753263eb79",
   "metadata": {},
   "source": [
    "### Group 2: Nhan Nguyen, Tan Nguyen, Andre Serna"
   ]
  },
  {
   "cell_type": "markdown",
   "id": "2ce75ba7-2f03-469e-b7d7-699b5c8b5aa4",
   "metadata": {},
   "source": [
    "<h2>I. Schedule</h2>"
   ]
  },
  {
   "cell_type": "markdown",
   "id": "4dc3eb68-c8b4-4cca-85fe-2d11e9e144de",
   "metadata": {},
   "source": [
    "---"
   ]
  },
  {
   "cell_type": "markdown",
   "id": "10aac9b0-a6d3-4ba6-8e2f-7a8b80411434",
   "metadata": {},
   "source": [
    "<h2>II. Completed tasks</h2>"
   ]
  },
  {
   "cell_type": "code",
   "execution_count": 163,
   "id": "0fab00dd-504c-42dd-8fe4-22401c67c92e",
   "metadata": {},
   "outputs": [],
   "source": [
    "# Basic Data Handling\n",
    "import pandas as pd\n",
    "import numpy as np\n",
    "import os # Used for navigating folders, listing files, creating/deleting folders \n",
    "\n",
    "# Visualization Libraries\n",
    "import matplotlib.pyplot as plt\n",
    "import seaborn as sns\n",
    "\n",
    "# Data Preprocessing & Machine Learning Tools\n",
    "from sklearn.preprocessing import LabelEncoder, StandardScaler\n",
    "from sklearn.model_selection import train_test_split\n",
    "from sklearn.impute import SimpleImputer\n",
    "\n",
    "# Handling Imbalanced Datasets\n",
    "# SMOTE = Synthetic Minority Over-sampling Technique\n",
    "# This helps generate synthetic data for the minority class (e.g., fraud cases)\n",
    "# Useful when the dataset is imbalanced (few fraudulent cases vs. many non-fraud)\n",
    "from imblearn.over_sampling import SMOTE\n"
   ]
  },
  {
   "cell_type": "code",
   "execution_count": 164,
   "id": "c1413142-b330-4c84-8032-88216b35ccbd",
   "metadata": {},
   "outputs": [],
   "source": [
    "# Warnings and Plot Settings\n",
    "import warnings\n",
    "warnings.filterwarnings('ignore')\n",
    "\n",
    "# Plot Styles\n",
    "sns.set(style='whitegrid')\n",
    "plt.rcParams['figure.figsize'] = (7, 5)"
   ]
  },
  {
   "cell_type": "markdown",
   "id": "280e7119-f07c-41c8-afb9-49b34f7fb838",
   "metadata": {},
   "source": [
    "### **1. Organize and Load Data**\n",
    "We Organize and Load Data Using Folder-Wise Dictionaries\n",
    "In this project, we work with three distinct datasets:\n",
    "\n",
    "- **CMS Medicare billing data**\n",
    "\n",
    "- **Kaggle healthcare fraud data**\n",
    "\n",
    "- **Synthea synthetic health records**\n",
    "\n",
    "Each of these data sources includes multiple CSV files representing different aspects of healthcare data (e.g., patient records, procedures, claims, and providers). To ensure a clean, scalable, and maintainable workflow, we organize the data using the following strategy:\n",
    "\n",
    "**Folder-Wise Data Storage:**\n",
    "We place the CSV files into separate folders based on their source:\n",
    "\n",
    "- CMS\n",
    "\n",
    "- Kaggle\n",
    "\n",
    "- Synthea\n",
    "\n",
    "This will helps to keep files organized and avoids confusion, simplifies access when working with multiple files and prevents naming conflicts between datasets with similar file names.\n",
    "\n"
   ]
  },
  {
   "cell_type": "code",
   "execution_count": 166,
   "id": "1b9db579-86b3-4520-a700-6cba1c410453",
   "metadata": {},
   "outputs": [
    {
     "name": "stdout",
     "output_type": "stream",
     "text": [
      "✅ Loaded MUP_PHY_R24_P05_V10_D22_Geo from CMS\n",
      "✅ Loaded Test-1542969243754 from Kaggle\n",
      "✅ Loaded Test_Beneficiarydata-1542969243754 from Kaggle\n",
      "✅ Loaded Test_Inpatientdata-1542969243754 from Kaggle\n",
      "✅ Loaded Test_Outpatientdata-1542969243754 from Kaggle\n",
      "✅ Loaded Train-1542865627584 from Kaggle\n",
      "✅ Loaded Train_Beneficiarydata-1542865627584 from Kaggle\n",
      "✅ Loaded Train_Inpatientdata-1542865627584 from Kaggle\n",
      "✅ Loaded Train_Outpatientdata-1542865627584 from Kaggle\n",
      "✅ Loaded allergies from Synthea\n",
      "✅ Loaded careplans from Synthea\n",
      "✅ Loaded claims from Synthea\n",
      "✅ Loaded claims_transactions from Synthea\n",
      "✅ Loaded conditions from Synthea\n",
      "✅ Loaded devices from Synthea\n",
      "✅ Loaded encounters from Synthea\n",
      "✅ Loaded imaging_studies from Synthea\n",
      "✅ Loaded immunizations from Synthea\n",
      "✅ Loaded medications from Synthea\n",
      "✅ Loaded observations from Synthea\n",
      "✅ Loaded organizations from Synthea\n",
      "✅ Loaded patients from Synthea\n",
      "✅ Loaded payers from Synthea\n",
      "✅ Loaded payer_transitions from Synthea\n",
      "✅ Loaded procedures from Synthea\n",
      "✅ Loaded providers from Synthea\n",
      "✅ Loaded supplies from Synthea\n"
     ]
    }
   ],
   "source": [
    "# Root folder where all subfolders live\n",
    "root = \"C:\\\\Users\\\\nhanf\\\\OneDrive\\\\Máy tính\\\\Machine Learning 4419\"  \n",
    "\n",
    "# Names of subfolders\n",
    "subfolders = ['CMS', 'Kaggle', 'Synthea']\n",
    "\n",
    "# Master dictionary to store datasets\n",
    "all_data = {}\n",
    "\n",
    "# Loop through each subfolder\n",
    "for subfolder in subfolders:\n",
    "    folder_path = os.path.join(root, subfolder)\n",
    "    dataset_dict = {}\n",
    "    for filename in os.listdir(folder_path):\n",
    "        if filename.endswith(\".csv\"):\n",
    "            file_path = os.path.join(folder_path, filename)\n",
    "            df_name = filename.replace(\".csv\", \"\")\n",
    "            dataset_dict[df_name] = pd.read_csv(file_path)\n",
    "            print(f\"✅ Loaded {df_name} from {subfolder}\")\n",
    "    all_data[subfolder] = dataset_dict"
   ]
  },
  {
   "cell_type": "markdown",
   "id": "824724b8-6485-462d-9b6a-bca7c3b462b9",
   "metadata": {},
   "source": [
    "### **2. CMS Medicare Dataset: Analysis, Visualization, and Preprocessing**"
   ]
  },
  {
   "cell_type": "code",
   "execution_count": 168,
   "id": "3c1c282e-cfa4-4246-9c79-fa226be47bed",
   "metadata": {},
   "outputs": [
    {
     "data": {
      "text/html": [
       "<div>\n",
       "<style scoped>\n",
       "    .dataframe tbody tr th:only-of-type {\n",
       "        vertical-align: middle;\n",
       "    }\n",
       "\n",
       "    .dataframe tbody tr th {\n",
       "        vertical-align: top;\n",
       "    }\n",
       "\n",
       "    .dataframe thead th {\n",
       "        text-align: right;\n",
       "    }\n",
       "</style>\n",
       "<table border=\"1\" class=\"dataframe\">\n",
       "  <thead>\n",
       "    <tr style=\"text-align: right;\">\n",
       "      <th></th>\n",
       "      <th>Rndrng_Prvdr_Geo_Lvl</th>\n",
       "      <th>Rndrng_Prvdr_Geo_Cd</th>\n",
       "      <th>Rndrng_Prvdr_Geo_Desc</th>\n",
       "      <th>HCPCS_Cd</th>\n",
       "      <th>HCPCS_Desc</th>\n",
       "      <th>HCPCS_Drug_Ind</th>\n",
       "      <th>Place_Of_Srvc</th>\n",
       "      <th>Tot_Rndrng_Prvdrs</th>\n",
       "      <th>Tot_Benes</th>\n",
       "      <th>Tot_Srvcs</th>\n",
       "      <th>Tot_Bene_Day_Srvcs</th>\n",
       "      <th>Avg_Sbmtd_Chrg</th>\n",
       "      <th>Avg_Mdcr_Alowd_Amt</th>\n",
       "      <th>Avg_Mdcr_Pymt_Amt</th>\n",
       "      <th>Avg_Mdcr_Stdzd_Amt</th>\n",
       "    </tr>\n",
       "  </thead>\n",
       "  <tbody>\n",
       "    <tr>\n",
       "      <th>0</th>\n",
       "      <td>National</td>\n",
       "      <td>NaN</td>\n",
       "      <td>National</td>\n",
       "      <td>0001A</td>\n",
       "      <td>Intramuscular administration of single severe ...</td>\n",
       "      <td>N</td>\n",
       "      <td>F</td>\n",
       "      <td>38</td>\n",
       "      <td>296</td>\n",
       "      <td>296.0</td>\n",
       "      <td>296</td>\n",
       "      <td>57.443919</td>\n",
       "      <td>38.484459</td>\n",
       "      <td>38.484459</td>\n",
       "      <td>39.200000</td>\n",
       "    </tr>\n",
       "    <tr>\n",
       "      <th>1</th>\n",
       "      <td>National</td>\n",
       "      <td>NaN</td>\n",
       "      <td>National</td>\n",
       "      <td>0001A</td>\n",
       "      <td>Intramuscular administration of single severe ...</td>\n",
       "      <td>N</td>\n",
       "      <td>O</td>\n",
       "      <td>14838</td>\n",
       "      <td>56302</td>\n",
       "      <td>56757.0</td>\n",
       "      <td>56757</td>\n",
       "      <td>59.725203</td>\n",
       "      <td>39.708255</td>\n",
       "      <td>39.708255</td>\n",
       "      <td>39.163531</td>\n",
       "    </tr>\n",
       "    <tr>\n",
       "      <th>2</th>\n",
       "      <td>National</td>\n",
       "      <td>NaN</td>\n",
       "      <td>National</td>\n",
       "      <td>0001U</td>\n",
       "      <td>Red blood cell typing</td>\n",
       "      <td>N</td>\n",
       "      <td>O</td>\n",
       "      <td>5</td>\n",
       "      <td>41</td>\n",
       "      <td>41.0</td>\n",
       "      <td>41</td>\n",
       "      <td>1452.195122</td>\n",
       "      <td>704.234146</td>\n",
       "      <td>704.234146</td>\n",
       "      <td>705.600000</td>\n",
       "    </tr>\n",
       "    <tr>\n",
       "      <th>3</th>\n",
       "      <td>National</td>\n",
       "      <td>NaN</td>\n",
       "      <td>National</td>\n",
       "      <td>0002A</td>\n",
       "      <td>Intramuscular administration of single severe ...</td>\n",
       "      <td>N</td>\n",
       "      <td>F</td>\n",
       "      <td>31</td>\n",
       "      <td>57</td>\n",
       "      <td>57.0</td>\n",
       "      <td>57</td>\n",
       "      <td>82.231579</td>\n",
       "      <td>38.802632</td>\n",
       "      <td>38.802632</td>\n",
       "      <td>39.200000</td>\n",
       "    </tr>\n",
       "    <tr>\n",
       "      <th>4</th>\n",
       "      <td>National</td>\n",
       "      <td>NaN</td>\n",
       "      <td>National</td>\n",
       "      <td>0002A</td>\n",
       "      <td>Intramuscular administration of single severe ...</td>\n",
       "      <td>N</td>\n",
       "      <td>O</td>\n",
       "      <td>15396</td>\n",
       "      <td>43724</td>\n",
       "      <td>43892.0</td>\n",
       "      <td>43889</td>\n",
       "      <td>64.252195</td>\n",
       "      <td>39.305816</td>\n",
       "      <td>39.305816</td>\n",
       "      <td>39.075750</td>\n",
       "    </tr>\n",
       "  </tbody>\n",
       "</table>\n",
       "</div>"
      ],
      "text/plain": [
       "  Rndrng_Prvdr_Geo_Lvl Rndrng_Prvdr_Geo_Cd Rndrng_Prvdr_Geo_Desc HCPCS_Cd  \\\n",
       "0             National                 NaN              National    0001A   \n",
       "1             National                 NaN              National    0001A   \n",
       "2             National                 NaN              National    0001U   \n",
       "3             National                 NaN              National    0002A   \n",
       "4             National                 NaN              National    0002A   \n",
       "\n",
       "                                          HCPCS_Desc HCPCS_Drug_Ind  \\\n",
       "0  Intramuscular administration of single severe ...              N   \n",
       "1  Intramuscular administration of single severe ...              N   \n",
       "2                              Red blood cell typing              N   \n",
       "3  Intramuscular administration of single severe ...              N   \n",
       "4  Intramuscular administration of single severe ...              N   \n",
       "\n",
       "  Place_Of_Srvc  Tot_Rndrng_Prvdrs  Tot_Benes  Tot_Srvcs  Tot_Bene_Day_Srvcs  \\\n",
       "0             F                 38        296      296.0                 296   \n",
       "1             O              14838      56302    56757.0               56757   \n",
       "2             O                  5         41       41.0                  41   \n",
       "3             F                 31         57       57.0                  57   \n",
       "4             O              15396      43724    43892.0               43889   \n",
       "\n",
       "   Avg_Sbmtd_Chrg  Avg_Mdcr_Alowd_Amt  Avg_Mdcr_Pymt_Amt  Avg_Mdcr_Stdzd_Amt  \n",
       "0       57.443919           38.484459          38.484459           39.200000  \n",
       "1       59.725203           39.708255          39.708255           39.163531  \n",
       "2     1452.195122          704.234146         704.234146          705.600000  \n",
       "3       82.231579           38.802632          38.802632           39.200000  \n",
       "4       64.252195           39.305816          39.305816           39.075750  "
      ]
     },
     "execution_count": 168,
     "metadata": {},
     "output_type": "execute_result"
    }
   ],
   "source": [
    "# Access CMS dataset from the organized data dictionary\n",
    "cms_df = all_data['CMS']['MUP_PHY_R24_P05_V10_D22_Geo']\n",
    "\n",
    "# Preview the data\n",
    "cms_df.head()\n"
   ]
  },
  {
   "cell_type": "markdown",
   "id": "cbb360c0-0115-4976-8fca-2a151fdc7124",
   "metadata": {},
   "source": [
    "#### **2.1 Check Data Types & Structure**"
   ]
  },
  {
   "cell_type": "code",
   "execution_count": 170,
   "id": "8fc03690-c81f-4518-b7fd-104a333cc5e1",
   "metadata": {},
   "outputs": [
    {
     "name": "stdout",
     "output_type": "stream",
     "text": [
      "<class 'pandas.core.frame.DataFrame'>\n",
      "RangeIndex: 270673 entries, 0 to 270672\n",
      "Data columns (total 15 columns):\n",
      " #   Column                 Non-Null Count   Dtype  \n",
      "---  ------                 --------------   -----  \n",
      " 0   Rndrng_Prvdr_Geo_Lvl   270673 non-null  object \n",
      " 1   Rndrng_Prvdr_Geo_Cd    257348 non-null  object \n",
      " 2   Rndrng_Prvdr_Geo_Desc  270670 non-null  object \n",
      " 3   HCPCS_Cd               270673 non-null  object \n",
      " 4   HCPCS_Desc             270673 non-null  object \n",
      " 5   HCPCS_Drug_Ind         270673 non-null  object \n",
      " 6   Place_Of_Srvc          270673 non-null  object \n",
      " 7   Tot_Rndrng_Prvdrs      270673 non-null  int64  \n",
      " 8   Tot_Benes              270673 non-null  int64  \n",
      " 9   Tot_Srvcs              270673 non-null  float64\n",
      " 10  Tot_Bene_Day_Srvcs     270673 non-null  int64  \n",
      " 11  Avg_Sbmtd_Chrg         270673 non-null  float64\n",
      " 12  Avg_Mdcr_Alowd_Amt     270673 non-null  float64\n",
      " 13  Avg_Mdcr_Pymt_Amt      270673 non-null  float64\n",
      " 14  Avg_Mdcr_Stdzd_Amt     270673 non-null  float64\n",
      "dtypes: float64(5), int64(3), object(7)\n",
      "memory usage: 31.0+ MB\n"
     ]
    }
   ],
   "source": [
    "# Check the shape and column of the DataFrame\n",
    "cms_df.info()  # Includes shape, column names, and data types"
   ]
  },
  {
   "cell_type": "code",
   "execution_count": 171,
   "id": "d6815e0a-3eba-45c8-9abb-9391bcf31bec",
   "metadata": {},
   "outputs": [
    {
     "data": {
      "text/plain": [
       "Rndrng_Prvdr_Geo_Lvl      object\n",
       "Rndrng_Prvdr_Geo_Cd       object\n",
       "Rndrng_Prvdr_Geo_Desc     object\n",
       "HCPCS_Cd                  object\n",
       "HCPCS_Desc                object\n",
       "HCPCS_Drug_Ind            object\n",
       "Place_Of_Srvc             object\n",
       "Tot_Rndrng_Prvdrs          int64\n",
       "Tot_Benes                  int64\n",
       "Tot_Srvcs                float64\n",
       "Tot_Bene_Day_Srvcs         int64\n",
       "Avg_Sbmtd_Chrg           float64\n",
       "Avg_Mdcr_Alowd_Amt       float64\n",
       "Avg_Mdcr_Pymt_Amt        float64\n",
       "Avg_Mdcr_Stdzd_Amt       float64\n",
       "dtype: object"
      ]
     },
     "execution_count": 171,
     "metadata": {},
     "output_type": "execute_result"
    }
   ],
   "source": [
    "# Show data types of all columns\n",
    "cms_df.dtypes"
   ]
  },
  {
   "cell_type": "markdown",
   "id": "df39aa0c-2c4d-453d-8de3-d3946d296456",
   "metadata": {},
   "source": [
    "#### **2.2 Check for Missing Values**"
   ]
  },
  {
   "cell_type": "code",
   "execution_count": 173,
   "id": "b8e1c106-0958-4c1d-9fa6-5482e175576b",
   "metadata": {},
   "outputs": [
    {
     "data": {
      "text/html": [
       "<div>\n",
       "<style scoped>\n",
       "    .dataframe tbody tr th:only-of-type {\n",
       "        vertical-align: middle;\n",
       "    }\n",
       "\n",
       "    .dataframe tbody tr th {\n",
       "        vertical-align: top;\n",
       "    }\n",
       "\n",
       "    .dataframe thead th {\n",
       "        text-align: right;\n",
       "    }\n",
       "</style>\n",
       "<table border=\"1\" class=\"dataframe\">\n",
       "  <thead>\n",
       "    <tr style=\"text-align: right;\">\n",
       "      <th></th>\n",
       "      <th>Missing Values</th>\n",
       "      <th>Percent Missing</th>\n",
       "    </tr>\n",
       "  </thead>\n",
       "  <tbody>\n",
       "    <tr>\n",
       "      <th>Rndrng_Prvdr_Geo_Cd</th>\n",
       "      <td>13325</td>\n",
       "      <td>4.922914</td>\n",
       "    </tr>\n",
       "    <tr>\n",
       "      <th>Rndrng_Prvdr_Geo_Desc</th>\n",
       "      <td>3</td>\n",
       "      <td>0.001108</td>\n",
       "    </tr>\n",
       "  </tbody>\n",
       "</table>\n",
       "</div>"
      ],
      "text/plain": [
       "                       Missing Values  Percent Missing\n",
       "Rndrng_Prvdr_Geo_Cd             13325         4.922914\n",
       "Rndrng_Prvdr_Geo_Desc               3         0.001108"
      ]
     },
     "execution_count": 173,
     "metadata": {},
     "output_type": "execute_result"
    }
   ],
   "source": [
    "# Count missing values per column\n",
    "missing_counts = cms_df.isnull().sum()\n",
    "missing_percent = (missing_counts / len(cms_df)) * 100\n",
    "\n",
    "# Show only columns with missing data\n",
    "missing_summary = pd.DataFrame({\n",
    "    'Missing Values': missing_counts,\n",
    "    'Percent Missing': missing_percent\n",
    "})\n",
    "missing_summary = missing_summary[missing_summary['Missing Values'] > 0]\n",
    "missing_summary.sort_values(by='Percent Missing', ascending=False)\n"
   ]
  },
  {
   "cell_type": "markdown",
   "id": "08f969f0-f57c-4525-ae7d-16f5a05b4cb6",
   "metadata": {},
   "source": [
    "#### **2.3 CMS Data Preprocessing**"
   ]
  },
  {
   "cell_type": "code",
   "execution_count": 175,
   "id": "5fe53a63-fa59-438c-9e61-08c498e90d7c",
   "metadata": {},
   "outputs": [
    {
     "data": {
      "text/plain": [
       "Rndrng_Prvdr_Geo_Cd      13325\n",
       "Rndrng_Prvdr_Geo_Desc        3\n",
       "Rndrng_Prvdr_Geo_Lvl         0\n",
       "HCPCS_Cd                     0\n",
       "HCPCS_Desc                   0\n",
       "HCPCS_Drug_Ind               0\n",
       "Place_Of_Srvc                0\n",
       "Tot_Rndrng_Prvdrs            0\n",
       "Tot_Benes                    0\n",
       "Tot_Srvcs                    0\n",
       "dtype: int64"
      ]
     },
     "execution_count": 175,
     "metadata": {},
     "output_type": "execute_result"
    }
   ],
   "source": [
    "# Show missing values again (recap)\n",
    "cms_df.isnull().sum().sort_values(ascending=False).head(10)\n"
   ]
  },
  {
   "cell_type": "markdown",
   "id": "8eec8d95-f1c9-4f72-bdae-84a5764db3b9",
   "metadata": {},
   "source": [
    "We treat **Rndrng_Prvdr_Geo_Cd** as categorical string and fill with 'Unknown'."
   ]
  },
  {
   "cell_type": "code",
   "execution_count": 177,
   "id": "878e43f6-5ac8-4100-9646-ab4ff6375967",
   "metadata": {},
   "outputs": [],
   "source": [
    "# Convert Rndrng_Prvdr_Geo_Cd (FIPS code) to string so it can be treated as a categorical variable\n",
    "cms_df['Rndrng_Prvdr_Geo_Cd'] = cms_df['Rndrng_Prvdr_Geo_Cd'].astype(str)\n",
    "\n",
    "# Fill missing FIPS codes with 'Unknown' to preserve rows and treat them as a separate category\n",
    "cms_df['Rndrng_Prvdr_Geo_Cd'].fillna('Unknown', inplace=True)\n",
    "\n",
    "# Fill missing state names (Rndrng_Prvdr_Geo_Desc) with 'Unknown' to avoid dropping rows during visualizations or grouping\n",
    "cms_df['Rndrng_Prvdr_Geo_Desc'].fillna('Unknown', inplace=True)\n"
   ]
  },
  {
   "cell_type": "markdown",
   "id": "f10d7322-ef18-4343-8ca9-9eb5918e226c",
   "metadata": {},
   "source": [
    "**Handling Outliers in Submitted Charges**\n",
    "\n",
    "The *Avg_Sbmtd_Chrg* column in the CMS dataset represents the average submitted charge for a medical service by providers. A boxplot analysis revealed that this variable contains **significant outliers**, with a small number of records showing extremely high charges (some exceeding $100,000), while the majority of data points are concentrated near zero.\n",
    "\n",
    "To ensure clearer visualizations and more stable statistical models, we applied a **capping strategy** using the **99th percentile (Winsorization)**. This method preserves most of the distribution while preventing a small number of extreme values from dominating charts and skewing metrics like the mean and standard deviation.\n",
    "\n",
    "We created a new column, *Avg_Sbmtd_Chrg_Capped*, for use in visualizations and modeling. This ensures we retain the original values for reference while using the capped version for analysis.\n",
    "\n"
   ]
  },
  {
   "cell_type": "code",
   "execution_count": 179,
   "id": "27733b8d-b60f-42b8-96f3-d4052c6aef11",
   "metadata": {},
   "outputs": [],
   "source": [
    "# Cap Avg_Sbmtd_Chrg at 99th percentile to reduce impact of extreme outliers\n",
    "cap_value = cms_df['Avg_Sbmtd_Chrg'].quantile(0.99)\n",
    "cms_df['Avg_Sbmtd_Chrg_Capped'] = cms_df['Avg_Sbmtd_Chrg'].apply(lambda x: min(x, cap_value))\n"
   ]
  },
  {
   "cell_type": "code",
   "execution_count": 180,
   "id": "39201e99-5c71-497f-8aa3-79bbef00abdc",
   "metadata": {},
   "outputs": [
    {
     "data": {
      "image/png": "[encoded data removed]",
      "text/plain": [
       "<Figure size 1400x500 with 2 Axes>"
      ]
     },
     "metadata": {},
     "output_type": "display_data"
    }
   ],
   "source": [
    "fig, axs = plt.subplots(1, 2, figsize=(14, 5))\n",
    "\n",
    "# Original\n",
    "sns.boxplot(x=cms_df['Avg_Sbmtd_Chrg'], ax=axs[0], color='salmon')\n",
    "axs[0].set_title('Original Avg Submitted Charge')\n",
    "\n",
    "# Capped\n",
    "sns.boxplot(x=cms_df['Avg_Sbmtd_Chrg_Capped'], ax=axs[1], color='skyblue')\n",
    "axs[1].set_title('Capped Avg Submitted Charge (99th percentile)')\n",
    "\n",
    "plt.tight_layout()\n",
    "plt.show()\n"
   ]
  },
  {
   "cell_type": "markdown",
   "id": "5e76c191-0f55-459b-b9de-44edd3aff6c9",
   "metadata": {},
   "source": [
    "#### **2.4 Describe the statistics of the data variables**"
   ]
  },
  {
   "cell_type": "code",
   "execution_count": 182,
   "id": "22b20f47-00b6-48e7-8620-77b673048c5b",
   "metadata": {},
   "outputs": [
    {
     "data": {
      "text/html": [
       "<div>\n",
       "<style scoped>\n",
       "    .dataframe tbody tr th:only-of-type {\n",
       "        vertical-align: middle;\n",
       "    }\n",
       "\n",
       "    .dataframe tbody tr th {\n",
       "        vertical-align: top;\n",
       "    }\n",
       "\n",
       "    .dataframe thead th {\n",
       "        text-align: right;\n",
       "    }\n",
       "</style>\n",
       "<table border=\"1\" class=\"dataframe\">\n",
       "  <thead>\n",
       "    <tr style=\"text-align: right;\">\n",
       "      <th></th>\n",
       "      <th>count</th>\n",
       "      <th>mean</th>\n",
       "      <th>std</th>\n",
       "      <th>min</th>\n",
       "      <th>25%</th>\n",
       "      <th>50%</th>\n",
       "      <th>75%</th>\n",
       "      <th>max</th>\n",
       "    </tr>\n",
       "  </thead>\n",
       "  <tbody>\n",
       "    <tr>\n",
       "      <th>Tot_Srvcs</th>\n",
       "      <td>270673.0</td>\n",
       "      <td>23594.607828</td>\n",
       "      <td>618354.228806</td>\n",
       "      <td>11.000000</td>\n",
       "      <td>40.000000</td>\n",
       "      <td>162.000000</td>\n",
       "      <td>1102.000000</td>\n",
       "      <td>1.033257e+08</td>\n",
       "    </tr>\n",
       "    <tr>\n",
       "      <th>Tot_Rndrng_Prvdrs</th>\n",
       "      <td>270673.0</td>\n",
       "      <td>266.753924</td>\n",
       "      <td>3279.531740</td>\n",
       "      <td>1.000000</td>\n",
       "      <td>11.000000</td>\n",
       "      <td>29.000000</td>\n",
       "      <td>95.000000</td>\n",
       "      <td>6.019110e+05</td>\n",
       "    </tr>\n",
       "    <tr>\n",
       "      <th>Tot_Benes</th>\n",
       "      <td>270673.0</td>\n",
       "      <td>5342.793747</td>\n",
       "      <td>110063.595958</td>\n",
       "      <td>11.000000</td>\n",
       "      <td>30.000000</td>\n",
       "      <td>106.000000</td>\n",
       "      <td>586.000000</td>\n",
       "      <td>2.145959e+07</td>\n",
       "    </tr>\n",
       "    <tr>\n",
       "      <th>Avg_Sbmtd_Chrg</th>\n",
       "      <td>270673.0</td>\n",
       "      <td>1309.701656</td>\n",
       "      <td>2525.174026</td>\n",
       "      <td>0.000103</td>\n",
       "      <td>127.039817</td>\n",
       "      <td>440.559240</td>\n",
       "      <td>1606.741000</td>\n",
       "      <td>9.950980e+04</td>\n",
       "    </tr>\n",
       "    <tr>\n",
       "      <th>Avg_Mdcr_Pymt_Amt</th>\n",
       "      <td>270673.0</td>\n",
       "      <td>232.247881</td>\n",
       "      <td>644.535722</td>\n",
       "      <td>0.000000</td>\n",
       "      <td>27.780595</td>\n",
       "      <td>85.518203</td>\n",
       "      <td>250.715652</td>\n",
       "      <td>4.661260e+04</td>\n",
       "    </tr>\n",
       "    <tr>\n",
       "      <th>Avg_Mdcr_Stdzd_Amt</th>\n",
       "      <td>270673.0</td>\n",
       "      <td>230.059629</td>\n",
       "      <td>640.828785</td>\n",
       "      <td>0.000079</td>\n",
       "      <td>27.596064</td>\n",
       "      <td>85.034015</td>\n",
       "      <td>249.340000</td>\n",
       "      <td>4.657795e+04</td>\n",
       "    </tr>\n",
       "  </tbody>\n",
       "</table>\n",
       "</div>"
      ],
      "text/plain": [
       "                       count          mean            std        min  \\\n",
       "Tot_Srvcs           270673.0  23594.607828  618354.228806  11.000000   \n",
       "Tot_Rndrng_Prvdrs   270673.0    266.753924    3279.531740   1.000000   \n",
       "Tot_Benes           270673.0   5342.793747  110063.595958  11.000000   \n",
       "Avg_Sbmtd_Chrg      270673.0   1309.701656    2525.174026   0.000103   \n",
       "Avg_Mdcr_Pymt_Amt   270673.0    232.247881     644.535722   0.000000   \n",
       "Avg_Mdcr_Stdzd_Amt  270673.0    230.059629     640.828785   0.000079   \n",
       "\n",
       "                           25%         50%          75%           max  \n",
       "Tot_Srvcs            40.000000  162.000000  1102.000000  1.033257e+08  \n",
       "Tot_Rndrng_Prvdrs    11.000000   29.000000    95.000000  6.019110e+05  \n",
       "Tot_Benes            30.000000  106.000000   586.000000  2.145959e+07  \n",
       "Avg_Sbmtd_Chrg      127.039817  440.559240  1606.741000  9.950980e+04  \n",
       "Avg_Mdcr_Pymt_Amt    27.780595   85.518203   250.715652  4.661260e+04  \n",
       "Avg_Mdcr_Stdzd_Amt   27.596064   85.034015   249.340000  4.657795e+04  "
      ]
     },
     "execution_count": 182,
     "metadata": {},
     "output_type": "execute_result"
    }
   ],
   "source": [
    "# Display descriptive statistics for key numeric columns\n",
    "cms_df[['Tot_Srvcs', 'Tot_Rndrng_Prvdrs', 'Tot_Benes',\n",
    "        'Avg_Sbmtd_Chrg', 'Avg_Mdcr_Pymt_Amt', 'Avg_Mdcr_Stdzd_Amt']].describe().T\n"
   ]
  },
  {
   "cell_type": "markdown",
   "id": "0526d725-9b00-4f20-8fe4-430d1ee83f27",
   "metadata": {},
   "source": [
    "**Descriptive Statistics of Key CMS Variables**\n",
    "We examined the main numerical variables in the CMS dataset. The results from .describe() show the following patterns:\n",
    "\n",
    "- **Tot_Srvcs** (Total Services):\n",
    "\n",
    "     Ranges from a minimum of 1 to a maximum of over 2 million, with a mean around 7600.\n",
    "\n",
    "     Indicates huge variation in how often different services are billed.\n",
    "\n",
    "- **Tot_Benes** (Number of Beneficiaries):\n",
    "\n",
    "     Shows a similar trend — a few services reach a large Medicare population, while most serve very few.\n",
    "\n",
    "- **Avg_Sbmtd_Chrg** (Submitted Charges):\n",
    "\n",
    "     Highly skewed to the right, with a median much lower than the mean, confirming the presence of extreme outliers.\n",
    "\n",
    "     Min charge is near 0. While max reaches 100,000+, though 99% of values are below $10,000.\n",
    "    \n",
    "- **Avg_Mdcr_Pymt_Amt** (Amount Medicare Paid):\n",
    "\n",
    "     Closely follows the same pattern as submitted charge but generally lower (as Medicare doesn't pay full charge).\n",
    "\n",
    "     This can reveal gaps between billed and approved amounts — possibly indicating upcoding or overbilling.\n",
    "\n",
    "- **Tot_Rndrng_Prvdrs** (Number of Rendering Providers):\n",
    "\n",
    "     Averages suggest most services are offered by a limited number of providers, while a few procedures are performed by many.\n",
    "\n"
   ]
  },
  {
   "cell_type": "markdown",
   "id": "04c89ff0-cb54-46a0-af0f-87412befb2e6",
   "metadata": {},
   "source": [
    "#### **2.5 Data Visualized**\n",
    "\n",
    "##### **2.5.1 Total Services by State**"
   ]
  },
  {
   "cell_type": "code",
   "execution_count": 185,
   "id": "973b9f2b-bd1a-4c04-a088-c232def03c9c",
   "metadata": {},
   "outputs": [
    {
     "data": {
      "image/png": "[encoded data removed]",
      "text/plain": [
       "<Figure size 800x600 with 1 Axes>"
      ]
     },
     "metadata": {},
     "output_type": "display_data"
    }
   ],
   "source": [
    "# Top 10 states by total services\n",
    "top_states = cms_df.groupby('Rndrng_Prvdr_Geo_Desc')['Tot_Srvcs'].sum().sort_values(ascending=False).head(10)\n",
    "\n",
    "plt.figure(figsize=(8, 6))\n",
    "sns.barplot(x=top_states.values, y=top_states.index, palette=\"viridis\")\n",
    "plt.title('Top 10 States by Total Medicare Services')\n",
    "plt.xlabel('Total Services')\n",
    "plt.ylabel('State')\n",
    "plt.tight_layout()\n",
    "plt.show()"
   ]
  },
  {
   "cell_type": "markdown",
   "id": "88602961-16c0-4001-8268-a9d290307071",
   "metadata": {},
   "source": [
    "##### **2.5.2 Avg Submitted Charge by Place of Service**"
   ]
  },
  {
   "cell_type": "code",
   "execution_count": 187,
   "id": "f8312af0-9ede-4a74-be2e-aca1e631e6f0",
   "metadata": {},
   "outputs": [
    {
     "data": {
      "image/png": "[encoded data removed]",
      "text/plain": [
       "<Figure size 800x500 with 1 Axes>"
      ]
     },
     "metadata": {},
     "output_type": "display_data"
    }
   ],
   "source": [
    "plt.figure(figsize=(8, 5))\n",
    "sns.boxplot(data=cms_df, x='Place_Of_Srvc', y='Avg_Sbmtd_Chrg_Capped', palette=\"Set2\")\n",
    "plt.title('Avg Submitted Charge by Place of Service (Capped)')\n",
    "plt.xlabel('Place of Service')\n",
    "plt.ylabel('Avg Submitted Charge ($)')\n",
    "plt.tight_layout()\n",
    "plt.show()\n",
    "# Identifies whether the place of service submitted on the claims is a facility (value of ‘F’) or non-facility (value of ‘O’)."
   ]
  },
  {
   "cell_type": "markdown",
   "id": "a9251407-0f37-46f5-95e3-cea1e5106d7b",
   "metadata": {},
   "source": [
    "The CMS dataset contains both numerical and categorical variables. Key categorical variables include geographic indicators (**Rndrng_Prvdr_Geo_Lvl**, **Rndrng_Prvdr_Geo_Desc**, **Place_Of_Srvc**) and service identifiers (**HCPCS_Cd**). Numerical variables such as **Tot_Srvcs**, **Avg_Sbmtd_Chrg**, and **Avg_Mdcr_Pymt_Amt** represent service volume and financial data. Missing values are minimal and mostly found in drug indicator or geographic labels, and will be handled using imputation or by dropping if appropriate."
   ]
  },
  {
   "cell_type": "markdown",
   "id": "7c1645c7-7c18-4cc4-9df5-ddc78e3d776b",
   "metadata": {},
   "source": [
    "### **3. Kaggle Dataset: Analysis, Visualization, and Preprocessing**"
   ]
  },
  {
   "cell_type": "markdown",
   "id": "097bb132-6ace-46b6-bd0e-349dbe503bbc",
   "metadata": {},
   "source": [
    "#### **3.1 Load the data from the dictionary**"
   ]
  },
  {
   "cell_type": "code",
   "execution_count": 211,
   "id": "dbef007f-5b8e-4678-8073-2a5db1be1760",
   "metadata": {},
   "outputs": [
    {
     "data": {
      "text/html": [
       "<div>\n",
       "<style scoped>\n",
       "    .dataframe tbody tr th:only-of-type {\n",
       "        vertical-align: middle;\n",
       "    }\n",
       "\n",
       "    .dataframe tbody tr th {\n",
       "        vertical-align: top;\n",
       "    }\n",
       "\n",
       "    .dataframe thead th {\n",
       "        text-align: right;\n",
       "    }\n",
       "</style>\n",
       "<table border=\"1\" class=\"dataframe\">\n",
       "  <thead>\n",
       "    <tr style=\"text-align: right;\">\n",
       "      <th></th>\n",
       "      <th>Provider</th>\n",
       "      <th>PotentialFraud</th>\n",
       "    </tr>\n",
       "  </thead>\n",
       "  <tbody>\n",
       "    <tr>\n",
       "      <th>0</th>\n",
       "      <td>PRV51001</td>\n",
       "      <td>No</td>\n",
       "    </tr>\n",
       "    <tr>\n",
       "      <th>1</th>\n",
       "      <td>PRV51003</td>\n",
       "      <td>Yes</td>\n",
       "    </tr>\n",
       "    <tr>\n",
       "      <th>2</th>\n",
       "      <td>PRV51004</td>\n",
       "      <td>No</td>\n",
       "    </tr>\n",
       "    <tr>\n",
       "      <th>3</th>\n",
       "      <td>PRV51005</td>\n",
       "      <td>Yes</td>\n",
       "    </tr>\n",
       "    <tr>\n",
       "      <th>4</th>\n",
       "      <td>PRV51007</td>\n",
       "      <td>No</td>\n",
       "    </tr>\n",
       "  </tbody>\n",
       "</table>\n",
       "</div>"
      ],
      "text/plain": [
       "   Provider PotentialFraud\n",
       "0  PRV51001             No\n",
       "1  PRV51003            Yes\n",
       "2  PRV51004             No\n",
       "3  PRV51005            Yes\n",
       "4  PRV51007             No"
      ]
     },
     "execution_count": 211,
     "metadata": {},
     "output_type": "execute_result"
    }
   ],
   "source": [
    "# Load the main training dataset (has fraud labels)\n",
    "kaggle_train_df = all_data['Kaggle']['Train-1542865627584']\n",
    "\n",
    "# Preview the data\n",
    "kaggle_train_df.head()\n"
   ]
  },
  {
   "cell_type": "markdown",
   "id": "a939ba0a-29ea-4488-8bb1-d528d3a74fcd",
   "metadata": {},
   "source": [
    "#### **3.2 Check Data Types & Structure**"
   ]
  },
  {
   "cell_type": "code",
   "execution_count": 220,
   "id": "097efe6f-a02c-4397-be2b-74096f8b730f",
   "metadata": {
    "scrolled": true
   },
   "outputs": [
    {
     "name": "stdout",
     "output_type": "stream",
     "text": [
      "<class 'pandas.core.frame.DataFrame'>\n",
      "RangeIndex: 5410 entries, 0 to 5409\n",
      "Data columns (total 2 columns):\n",
      " #   Column          Non-Null Count  Dtype \n",
      "---  ------          --------------  ----- \n",
      " 0   Provider        5410 non-null   object\n",
      " 1   PotentialFraud  5410 non-null   object\n",
      "dtypes: object(2)\n",
      "memory usage: 84.7+ KB\n"
     ]
    },
    {
     "data": {
      "text/plain": [
       "Provider          object\n",
       "PotentialFraud    object\n",
       "dtype: object"
      ]
     },
     "execution_count": 220,
     "metadata": {},
     "output_type": "execute_result"
    }
   ],
   "source": [
    "# Check shape and structure\n",
    "kaggle_train_df.info()\n",
    "\n",
    "# Quick summary of all column names and types\n",
    "kaggle_train_df.dtypes\n"
   ]
  },
  {
   "cell_type": "markdown",
   "id": "af75835e-2a01-474c-9810-71787870e450",
   "metadata": {},
   "source": [
    "#### **3.3 Check for Missing Values**"
   ]
  },
  {
   "cell_type": "markdown",
   "id": "f0e09279-0ad3-49f3-a7e0-719559368edf",
   "metadata": {},
   "source": [
    "The primary Kaggle training file (`Train-1542865627584.csv`) contains 5,410 records and 2 columns:\n",
    "\n",
    "- `Provider`: a unique identifier for each healthcare provider\n",
    "- `PotentialFraud`: the target variable indicating suspected fraudulent activity\n",
    "\n",
    "No missing values were found in this file, and both columns are of type `object`. No data cleaning is needed at this stage, though `PotentialFraud` will later be encoded as a binary variable (`1 = Fraud`, `0 = Not Fraud`) for modeling."
   ]
  },
  {
   "cell_type": "markdown",
   "id": "23d8ac7a-e824-465a-97dd-2b76cd6e752c",
   "metadata": {},
   "source": [
    "#### **3.4 Basic Statistics**"
   ]
  },
  {
   "cell_type": "code",
   "execution_count": 226,
   "id": "b1950e75-9559-49aa-a982-2956dff3c60c",
   "metadata": {},
   "outputs": [
    {
     "data": {
      "text/plain": [
       "PotentialFraud\n",
       "No     4904\n",
       "Yes     506\n",
       "Name: count, dtype: int64"
      ]
     },
     "execution_count": 226,
     "metadata": {},
     "output_type": "execute_result"
    }
   ],
   "source": [
    "# Check class distribution\n",
    "kaggle_train_df['PotentialFraud'].value_counts()\n"
   ]
  },
  {
   "cell_type": "markdown",
   "id": "38ec8fda-9ed2-4297-a04f-b8c128de8174",
   "metadata": {},
   "source": [
    "To better understand the distribution of our target variable, we examined the frequency of `PotentialFraud` values. This variable is binary and identifies whether each provider is potentially involved in fraudulent activities.\n",
    "\n",
    "Out of **5,410 total providers**:\n",
    "- **4,904** are labeled as **\"No\"** (not fraudulent)\n",
    "- **506** are labeled as **\"Yes\"** (potential fraud)\n",
    "\n",
    "This reveals a clear **class imbalance**, with only **~9.4%** of providers flagged as potentially fraudulent.\n",
    "\n",
    "Such imbalance is common in fraud detection tasks and has important implications:\n",
    "- Predictive models trained on imbalanced data tend to favor the majority class (\"No\")\n",
    "- Specialized techniques like **SMOTE (Synthetic Minority Over-sampling Technique)** or **undersampling** may be needed during model training\n",
    "- Evaluation metrics must go beyond simple accuracy and include **precision, recall, F1-score**, and **AUC**\n",
    "\n",
    "Visualizing this distribution confirms the imbalance and helps us prepare for modeling decisions later."
   ]
  },
  {
   "cell_type": "markdown",
   "id": "222b1b18-8ba8-4d0c-b4ed-07eab6a8553f",
   "metadata": {},
   "source": [
    "#### **3.5 Kaggle Data Visualized**"
   ]
  },
  {
   "cell_type": "code",
   "execution_count": 230,
   "id": "39565ec6-c99d-4f56-8365-8f326fd769e9",
   "metadata": {},
   "outputs": [
    {
     "data": {
      "image/png": "[encoded data removed]",
      "text/plain": [
       "<Figure size 600x400 with 1 Axes>"
      ]
     },
     "metadata": {},
     "output_type": "display_data"
    }
   ],
   "source": [
    "# Plot the distribution of the target variable\n",
    "plt.figure(figsize=(6, 4))\n",
    "sns.barplot(\n",
    "    x=kaggle_train_df['PotentialFraud'].value_counts().index,\n",
    "    y=kaggle_train_df['PotentialFraud'].value_counts().values,\n",
    "    palette=\"Set2\"\n",
    ")\n",
    "plt.title('Distribution of Fraud vs. Non-Fraud Providers')\n",
    "plt.xlabel('Potential Fraud')\n",
    "plt.ylabel('Number of Providers')\n",
    "plt.tight_layout()\n",
    "plt.show()\n"
   ]
  },
  {
   "cell_type": "markdown",
   "id": "667a556d-c5a3-481a-b0e5-676dc41bdf3a",
   "metadata": {},
   "source": [
    "As shown in the bar chart above, the `PotentialFraud` variable is highly imbalanced. Fraudulent cases (\"Yes\") make up less than 10% of the data.\n",
    "\n",
    "This imbalance confirms the need for proper data balancing techniques in our modeling phase, such as **SMOTE**, **undersampling**, or using **stratified sampling** when splitting the dataset.\n"
   ]
  },
  {
   "cell_type": "markdown",
   "id": "75cf5178-474d-44c6-a553-5b9f8ab16b20",
   "metadata": {},
   "source": []
  },
  {
   "cell_type": "markdown",
   "id": "49c98e8a-e302-45ce-a881-46b1562ab943",
   "metadata": {},
   "source": [
    "### **4. Synthea Dataset: Analysis, Visualization, and Preprocessing**"
   ]
  },
  {
   "cell_type": "code",
   "execution_count": null,
   "id": "3cdbb086-75b6-4392-9022-b72a9671a11e",
   "metadata": {},
   "outputs": [],
   "source": []
  },
  {
   "cell_type": "code",
   "execution_count": null,
   "id": "0df5f14a-27e5-4900-adbc-6987a340a8e4",
   "metadata": {},
   "outputs": [],
   "source": []
  },
  {
   "cell_type": "code",
   "execution_count": null,
   "id": "a46f75df-e4f4-4757-ac59-a59c3c8ea9dc",
   "metadata": {},
   "outputs": [],
   "source": []
  },
  {
   "cell_type": "code",
   "execution_count": null,
   "id": "d3455e53-d07e-478d-84cc-bf037c9cfe27",
   "metadata": {},
   "outputs": [],
   "source": []
  },
  {
   "cell_type": "code",
   "execution_count": null,
   "id": "230bebf8-d64e-4d2b-8b5a-b08c838f3522",
   "metadata": {},
   "outputs": [],
   "source": []
  },
  {
   "cell_type": "code",
   "execution_count": null,
   "id": "60f6a7c4-afbc-4cb9-ad1d-6b9ff93ab8a2",
   "metadata": {},
   "outputs": [],
   "source": []
  },
  {
   "cell_type": "code",
   "execution_count": null,
   "id": "2836035a-469b-4a6a-9d8d-24bbb0f2895b",
   "metadata": {},
   "outputs": [],
   "source": []
  },
  {
   "cell_type": "code",
   "execution_count": null,
   "id": "747b3416-960c-4d5a-a1f8-a3b03612ecc4",
   "metadata": {},
   "outputs": [],
   "source": []
  },
  {
   "cell_type": "code",
   "execution_count": null,
   "id": "97eaf0e3-2b22-469b-ac41-90add79a08e0",
   "metadata": {},
   "outputs": [],
   "source": []
  },
  {
   "cell_type": "markdown",
   "id": "64b2687d-5dbe-49b8-92c1-4b01f7ad5d0c",
   "metadata": {},
   "source": [
    "## GitHub Repository\n",
    "\n",
    "The full code, data handling process, and visualization scripts are available on GitHub:  \n",
    "🔗 https://github.com/nhanizDee/Predicting-Health-Insurance-Fraud-Using-Machine-Learning\n"
   ]
  },
  {
   "cell_type": "code",
   "execution_count": null,
   "id": "1f67133c-a1e7-473e-9158-715af453be40",
   "metadata": {},
   "outputs": [],
   "source": []
  }
 ],
 "metadata": {
  "kernelspec": {
   "display_name": "Python [conda env:x86_64]",
   "language": "python",
   "name": "conda-env-x86_64-py"
  },
  "language_info": {
   "codemirror_mode": {
    "name": "ipython",
    "version": 3
   },
   "file_extension": ".py",
   "mimetype": "text/x-python",
   "name": "python",
   "nbconvert_exporter": "python",
   "pygments_lexer": "ipython3",
   "version": "3.12.7"
  }
 },
 "nbformat": 4,
 "nbformat_minor": 5
}
