{
 "cells": [
  {
   "cell_type": "markdown",
   "id": "1b40e2ca-7329-401e-92c7-e1b7d3632b4f",
   "metadata": {},
   "source": [
    "# Predicting Health Insurance Fraud Using Machine Learning"
   ]
  },
  {
   "cell_type": "markdown",
   "id": "714dc8d8-a770-40bc-a061-75753263eb79",
   "metadata": {},
   "source": [
    "### Group 2: Nhan Nguyen, Tan Nguyen, Andre Serna"
   ]
  },
  {
   "cell_type": "markdown",
   "id": "9c002b31-19dc-4e02-9e61-f9efaff60452",
   "metadata": {},
   "source": [
    "<h2>I. Introduction</h2>"
   ]
  },
  {
   "cell_type": "markdown",
   "id": "cd3750c5-1284-4817-8944-389ee284292d",
   "metadata": {},
   "source": [
    "Healthcare fraud is a pervasive issue that has significant financial, ethical, and operational implications, affecting government programs, insurance companies, healthcare providers, and patients alike. Fraudulent activities in healthcare result in billions of dollars in financial losses annually, placing a burden on both public and private insurers while increasing overall healthcare costs. The **National Health Care Anti-Fraud Association (NHCAA)** estimates that healthcare fraud costs the United States **tens of billions of dollars each year**, affecting the efficiency and sustainability of healthcare programs.\n",
    "\n",
    "Fraud in health insurance can manifest in various forms, including **phantom billing** (charging for services never provided), **upcoding** (billing for more expensive procedures than those performed), **unbundling** (separating services that should be billed together), **duplicate billing**, and **identity fraud**. These fraudulent activities exploit loopholes in the billing system, making them difficult to detect through traditional rule-based fraud detection techniques. Most existing fraud detection methods rely on manual audits, predefined rules, and expert-based reviews, which are labor-intensive, time-consuming, and ineffective against evolving fraudulent schemes.\n",
    "\n",
    "Machine learning (ML) and data-driven analytics have emerged as effective solutions for fraud detection in healthcare by leveraging large datasets to identify patterns indicative of fraudulent behavior. Unlike static rule-based systems, ML models can dynamically analyze vast amounts of healthcare claims data, recognize hidden anomalies, and detect fraud more accurately over time. ML-based fraud detection systems also reduce false positives, allowing investigators to focus on high-risk claims while minimizing disruptions for legitimate providers.\n",
    "\n",
    "This project aims to build a **robust fraud detection model** that can accurately distinguish fraudulent from non-fraudulent claims using a **combination of supervised and unsupervised machine learning techniques**. The analysis will be conducted using **three key datasets**:\n",
    "- **CMS Medicare Data** – A large dataset of Medicare claims providing insight into billing practices.\n",
    "- **Kaggle Healthcare Fraud Dataset** – A labeled dataset containing known cases of fraudulent providers.\n",
    "- **Synthea Synthetic Data** – A simulated dataset modeling real-world healthcare scenarios to enhance training and testing.\n",
    "\n",
    "By integrating these datasets, we aim to develop an **intelligent fraud detection system** that utilizes **statistical learning techniques from An Introduction to Statistical Learning (ISL)** to enhance fraud identification. The results of this study will contribute to more effective fraud prevention strategies, reducing financial losses and improving healthcare system integrity.\n",
    "\n",
    "---"
   ]
  },
  {
   "cell_type": "markdown",
   "id": "d8ff3537-f154-4643-a9db-957637fa7abb",
   "metadata": {},
   "source": [
    "<h2>II. Schedule</h2>"
   ]
  },
  {
   "cell_type": "markdown",
   "id": "3334ef3b-43c3-4667-9239-254298e7e65f",
   "metadata": {},
   "source": [
    "We structured our project timeline into weekly milestones to ensure timely and systematic progress. The original plan allocated specific tasks to each member, with an emphasis on collaboration during analysis and documentation.\n",
    "\n",
    "### 1. Completed Tasks (Weeks 1–6)\n",
    "| Week | Tasks Completed | Notes |\n",
    "|------|------------------|-------|\n",
    "| Week 1–2 | Data collection from CMS, Kaggle, Synthea | All datasets successfully downloaded, loaded, and organized into dictionaries by source. |\n",
    "| Week 3–4 | Data cleaning & preprocessing | CMS, Kaggle, and Synthea data cleaned. Missing values handled, irrelevant columns dropped, outliers capped. |\n",
    "| Week 5 | Exploratory Data Analysis (EDA) | Visualized key variables for all datasets (e.g., gender, income, charges, fraud status). Class imbalance confirmed. |\n",
    "| Week 6 | Descriptive statistics | Variable distributions examined and summarized for the report. |\n",
    "\n",
    "---\n",
    "\n",
    "### 2. Upcoming Tasks (Weeks 7–12)\n",
    "| Week | Task | Assigned Member(s) |\n",
    "|------|------|--------------------|\n",
    "| Week 7 | Merge inpatient/outpatient data (Kaggle); begin feature engineering | Nhan |\n",
    "| Week 8 | Model development: logistic regression, decision tree, random forest | Tan |\n",
    "| Week 9 | Advanced models: SVM, XGBoost, clustering | Tan |\n",
    "| Week 10 | SHAP analysis, performance evaluation | Tan, Nhan |\n",
    "| Week 11 | Report writing, citation finalization | Andre |\n",
    "| Week 12 | Report finalization and presentation prep | All Members |\n",
    "\n",
    "---\n",
    "\n",
    "### 3. Deviations from the Original Plan\n",
    "\n",
    "- Originally, feature engineering was scheduled for Weeks 3–4. However, we postponed this task to **Week 7** in order to complete a more thorough EDA and data cleaning process, especially across three large datasets.\n",
    "- This change ensures that models are built on high-quality, consistent inputs and supports better feature selection based on actual data patterns.\n",
    "\n",
    "---\n",
    "\n",
    "### 4. Overall Status\n",
    "\n",
    "We are **on track** with the revised schedule. All foundational tasks (cleaning, EDA, visualization) have been completed. The team is ready to begin modeling and performance evaluation in the next phase.\n"
   ]
  },
  {
   "cell_type": "markdown",
   "id": "10aac9b0-a6d3-4ba6-8e2f-7a8b80411434",
   "metadata": {},
   "source": [
    "<h2>III. Completed Tasks and Result</h2>"
   ]
  },
  {
   "cell_type": "code",
   "execution_count": 163,
   "id": "0fab00dd-504c-42dd-8fe4-22401c67c92e",
   "metadata": {},
   "outputs": [],
   "source": [
    "# Basic Data Handling\n",
    "import pandas as pd\n",
    "import numpy as np\n",
    "import os # Used for navigating folders, listing files, creating/deleting folders \n",
    "\n",
    "# Visualization Libraries\n",
    "import matplotlib.pyplot as plt\n",
    "import seaborn as sns\n",
    "\n",
    "# Data Preprocessing & Machine Learning Tools\n",
    "from sklearn.preprocessing import LabelEncoder, StandardScaler\n",
    "from sklearn.model_selection import train_test_split\n",
    "from sklearn.impute import SimpleImputer\n",
    "\n",
    "# Handling Imbalanced Datasets\n",
    "# SMOTE = Synthetic Minority Over-sampling Technique\n",
    "# This helps generate synthetic data for the minority class (e.g., fraud cases)\n",
    "# Useful when the dataset is imbalanced (few fraudulent cases vs. many non-fraud)\n",
    "from imblearn.over_sampling import SMOTE\n"
   ]
  },
  {
   "cell_type": "code",
   "execution_count": 164,
   "id": "c1413142-b330-4c84-8032-88216b35ccbd",
   "metadata": {},
   "outputs": [],
   "source": [
    "# Warnings and Plot Settings\n",
    "import warnings\n",
    "warnings.filterwarnings('ignore')\n",
    "\n",
    "# Plot Styles\n",
    "sns.set(style='whitegrid')\n",
    "plt.rcParams['figure.figsize'] = (7, 5)"
   ]
  },
  {
   "cell_type": "markdown",
   "id": "280e7119-f07c-41c8-afb9-49b34f7fb838",
   "metadata": {},
   "source": [
    "### **1. Organize and Load Data**\n",
    "We Organize and Load Data Using Folder-Wise Dictionaries\n",
    "In this project, we work with three distinct datasets:\n",
    "\n",
    "- **CMS Medicare billing data**\n",
    "\n",
    "- **Kaggle healthcare fraud data**\n",
    "\n",
    "- **Synthea synthetic health records**\n",
    "\n",
    "Each of these data sources includes multiple CSV files representing different aspects of healthcare data (e.g., patient records, procedures, claims, and providers). To ensure a clean, scalable, and maintainable workflow, we organize the data using the following strategy:\n",
    "\n",
    "**Folder-Wise Data Storage:**\n",
    "We place the CSV files into separate folders based on their source:\n",
    "\n",
    "- CMS\n",
    "\n",
    "- Kaggle\n",
    "\n",
    "- Synthea\n",
    "\n",
    "This will helps to keep files organized and avoids confusion, simplifies access when working with multiple files and prevents naming conflicts between datasets with similar file names.\n",
    "\n"
   ]
  },
  {
   "cell_type": "code",
   "execution_count": 166,
   "id": "1b9db579-86b3-4520-a700-6cba1c410453",
   "metadata": {},
   "outputs": [
    {
     "name": "stdout",
     "output_type": "stream",
     "text": [
      "✅ Loaded MUP_PHY_R24_P05_V10_D22_Geo from CMS\n",
      "✅ Loaded Test-1542969243754 from Kaggle\n",
      "✅ Loaded Test_Beneficiarydata-1542969243754 from Kaggle\n",
      "✅ Loaded Test_Inpatientdata-1542969243754 from Kaggle\n",
      "✅ Loaded Test_Outpatientdata-1542969243754 from Kaggle\n",
      "✅ Loaded Train-1542865627584 from Kaggle\n",
      "✅ Loaded Train_Beneficiarydata-1542865627584 from Kaggle\n",
      "✅ Loaded Train_Inpatientdata-1542865627584 from Kaggle\n",
      "✅ Loaded Train_Outpatientdata-1542865627584 from Kaggle\n",
      "✅ Loaded allergies from Synthea\n",
      "✅ Loaded careplans from Synthea\n",
      "✅ Loaded claims from Synthea\n",
      "✅ Loaded claims_transactions from Synthea\n",
      "✅ Loaded conditions from Synthea\n",
      "✅ Loaded devices from Synthea\n",
      "✅ Loaded encounters from Synthea\n",
      "✅ Loaded imaging_studies from Synthea\n",
      "✅ Loaded immunizations from Synthea\n",
      "✅ Loaded medications from Synthea\n",
      "✅ Loaded observations from Synthea\n",
      "✅ Loaded organizations from Synthea\n",
      "✅ Loaded patients from Synthea\n",
      "✅ Loaded payers from Synthea\n",
      "✅ Loaded payer_transitions from Synthea\n",
      "✅ Loaded procedures from Synthea\n",
      "✅ Loaded providers from Synthea\n",
      "✅ Loaded supplies from Synthea\n"
     ]
    }
   ],
   "source": [
    "# Root folder where all subfolders live\n",
    "root = \"C:\\\\Users\\\\nhanf\\\\OneDrive\\\\Máy tính\\\\Machine Learning 4419\"  \n",
    "\n",
    "# Names of subfolders\n",
    "subfolders = ['CMS', 'Kaggle', 'Synthea']\n",
    "\n",
    "# Master dictionary to store datasets\n",
    "all_data = {}\n",
    "\n",
    "# Loop through each subfolder\n",
    "for subfolder in subfolders:\n",
    "    folder_path = os.path.join(root, subfolder)\n",
    "    dataset_dict = {}\n",
    "    for filename in os.listdir(folder_path):\n",
    "        if filename.endswith(\".csv\"):\n",
    "            file_path = os.path.join(folder_path, filename)\n",
    "            df_name = filename.replace(\".csv\", \"\")\n",
    "            dataset_dict[df_name] = pd.read_csv(file_path)\n",
    "            print(f\"✅ Loaded {df_name} from {subfolder}\")\n",
    "    all_data[subfolder] = dataset_dict"
   ]
  },
  {
   "cell_type": "markdown",
   "id": "824724b8-6485-462d-9b6a-bca7c3b462b9",
   "metadata": {},
   "source": [
    "### **2. CMS Medicare Dataset: Analysis, Visualization, and Preprocessing**"
   ]
  },
  {
   "cell_type": "code",
   "execution_count": 168,
   "id": "3c1c282e-cfa4-4246-9c79-fa226be47bed",
   "metadata": {},
   "outputs": [
    {
     "data": {
      "text/html": [
       "<div>\n",
       "<style scoped>\n",
       "    .dataframe tbody tr th:only-of-type {\n",
       "        vertical-align: middle;\n",
       "    }\n",
       "\n",
       "    .dataframe tbody tr th {\n",
       "        vertical-align: top;\n",
       "    }\n",
       "\n",
       "    .dataframe thead th {\n",
       "        text-align: right;\n",
       "    }\n",
       "</style>\n",
       "<table border=\"1\" class=\"dataframe\">\n",
       "  <thead>\n",
       "    <tr style=\"text-align: right;\">\n",
       "      <th></th>\n",
       "      <th>Rndrng_Prvdr_Geo_Lvl</th>\n",
       "      <th>Rndrng_Prvdr_Geo_Cd</th>\n",
       "      <th>Rndrng_Prvdr_Geo_Desc</th>\n",
       "      <th>HCPCS_Cd</th>\n",
       "      <th>HCPCS_Desc</th>\n",
       "      <th>HCPCS_Drug_Ind</th>\n",
       "      <th>Place_Of_Srvc</th>\n",
       "      <th>Tot_Rndrng_Prvdrs</th>\n",
       "      <th>Tot_Benes</th>\n",
       "      <th>Tot_Srvcs</th>\n",
       "      <th>Tot_Bene_Day_Srvcs</th>\n",
       "      <th>Avg_Sbmtd_Chrg</th>\n",
       "      <th>Avg_Mdcr_Alowd_Amt</th>\n",
       "      <th>Avg_Mdcr_Pymt_Amt</th>\n",
       "      <th>Avg_Mdcr_Stdzd_Amt</th>\n",
       "    </tr>\n",
       "  </thead>\n",
       "  <tbody>\n",
       "    <tr>\n",
       "      <th>0</th>\n",
       "      <td>National</td>\n",
       "      <td>NaN</td>\n",
       "      <td>National</td>\n",
       "      <td>0001A</td>\n",
       "      <td>Intramuscular administration of single severe ...</td>\n",
       "      <td>N</td>\n",
       "      <td>F</td>\n",
       "      <td>38</td>\n",
       "      <td>296</td>\n",
       "      <td>296.0</td>\n",
       "      <td>296</td>\n",
       "      <td>57.443919</td>\n",
       "      <td>38.484459</td>\n",
       "      <td>38.484459</td>\n",
       "      <td>39.200000</td>\n",
       "    </tr>\n",
       "    <tr>\n",
       "      <th>1</th>\n",
       "      <td>National</td>\n",
       "      <td>NaN</td>\n",
       "      <td>National</td>\n",
       "      <td>0001A</td>\n",
       "      <td>Intramuscular administration of single severe ...</td>\n",
       "      <td>N</td>\n",
       "      <td>O</td>\n",
       "      <td>14838</td>\n",
       "      <td>56302</td>\n",
       "      <td>56757.0</td>\n",
       "      <td>56757</td>\n",
       "      <td>59.725203</td>\n",
       "      <td>39.708255</td>\n",
       "      <td>39.708255</td>\n",
       "      <td>39.163531</td>\n",
       "    </tr>\n",
       "    <tr>\n",
       "      <th>2</th>\n",
       "      <td>National</td>\n",
       "      <td>NaN</td>\n",
       "      <td>National</td>\n",
       "      <td>0001U</td>\n",
       "      <td>Red blood cell typing</td>\n",
       "      <td>N</td>\n",
       "      <td>O</td>\n",
       "      <td>5</td>\n",
       "      <td>41</td>\n",
       "      <td>41.0</td>\n",
       "      <td>41</td>\n",
       "      <td>1452.195122</td>\n",
       "      <td>704.234146</td>\n",
       "      <td>704.234146</td>\n",
       "      <td>705.600000</td>\n",
       "    </tr>\n",
       "    <tr>\n",
       "      <th>3</th>\n",
       "      <td>National</td>\n",
       "      <td>NaN</td>\n",
       "      <td>National</td>\n",
       "      <td>0002A</td>\n",
       "      <td>Intramuscular administration of single severe ...</td>\n",
       "      <td>N</td>\n",
       "      <td>F</td>\n",
       "      <td>31</td>\n",
       "      <td>57</td>\n",
       "      <td>57.0</td>\n",
       "      <td>57</td>\n",
       "      <td>82.231579</td>\n",
       "      <td>38.802632</td>\n",
       "      <td>38.802632</td>\n",
       "      <td>39.200000</td>\n",
       "    </tr>\n",
       "    <tr>\n",
       "      <th>4</th>\n",
       "      <td>National</td>\n",
       "      <td>NaN</td>\n",
       "      <td>National</td>\n",
       "      <td>0002A</td>\n",
       "      <td>Intramuscular administration of single severe ...</td>\n",
       "      <td>N</td>\n",
       "      <td>O</td>\n",
       "      <td>15396</td>\n",
       "      <td>43724</td>\n",
       "      <td>43892.0</td>\n",
       "      <td>43889</td>\n",
       "      <td>64.252195</td>\n",
       "      <td>39.305816</td>\n",
       "      <td>39.305816</td>\n",
       "      <td>39.075750</td>\n",
       "    </tr>\n",
       "  </tbody>\n",
       "</table>\n",
       "</div>"
      ],
      "text/plain": [
       "  Rndrng_Prvdr_Geo_Lvl Rndrng_Prvdr_Geo_Cd Rndrng_Prvdr_Geo_Desc HCPCS_Cd  \\\n",
       "0             National                 NaN              National    0001A   \n",
       "1             National                 NaN              National    0001A   \n",
       "2             National                 NaN              National    0001U   \n",
       "3             National                 NaN              National    0002A   \n",
       "4             National                 NaN              National    0002A   \n",
       "\n",
       "                                          HCPCS_Desc HCPCS_Drug_Ind  \\\n",
       "0  Intramuscular administration of single severe ...              N   \n",
       "1  Intramuscular administration of single severe ...              N   \n",
       "2                              Red blood cell typing              N   \n",
       "3  Intramuscular administration of single severe ...              N   \n",
       "4  Intramuscular administration of single severe ...              N   \n",
       "\n",
       "  Place_Of_Srvc  Tot_Rndrng_Prvdrs  Tot_Benes  Tot_Srvcs  Tot_Bene_Day_Srvcs  \\\n",
       "0             F                 38        296      296.0                 296   \n",
       "1             O              14838      56302    56757.0               56757   \n",
       "2             O                  5         41       41.0                  41   \n",
       "3             F                 31         57       57.0                  57   \n",
       "4             O              15396      43724    43892.0               43889   \n",
       "\n",
       "   Avg_Sbmtd_Chrg  Avg_Mdcr_Alowd_Amt  Avg_Mdcr_Pymt_Amt  Avg_Mdcr_Stdzd_Amt  \n",
       "0       57.443919           38.484459          38.484459           39.200000  \n",
       "1       59.725203           39.708255          39.708255           39.163531  \n",
       "2     1452.195122          704.234146         704.234146          705.600000  \n",
       "3       82.231579           38.802632          38.802632           39.200000  \n",
       "4       64.252195           39.305816          39.305816           39.075750  "
      ]
     },
     "execution_count": 168,
     "metadata": {},
     "output_type": "execute_result"
    }
   ],
   "source": [
    "# Access CMS dataset from the organized data dictionary\n",
    "cms_df = all_data['CMS']['MUP_PHY_R24_P05_V10_D22_Geo']\n",
    "\n",
    "# Preview the data\n",
    "cms_df.head()\n"
   ]
  },
  {
   "cell_type": "markdown",
   "id": "cbb360c0-0115-4976-8fca-2a151fdc7124",
   "metadata": {},
   "source": [
    "#### **2.1 Check Data Types & Structure**"
   ]
  },
  {
   "cell_type": "code",
   "execution_count": 170,
   "id": "8fc03690-c81f-4518-b7fd-104a333cc5e1",
   "metadata": {},
   "outputs": [
    {
     "name": "stdout",
     "output_type": "stream",
     "text": [
      "<class 'pandas.core.frame.DataFrame'>\n",
      "RangeIndex: 270673 entries, 0 to 270672\n",
      "Data columns (total 15 columns):\n",
      " #   Column                 Non-Null Count   Dtype  \n",
      "---  ------                 --------------   -----  \n",
      " 0   Rndrng_Prvdr_Geo_Lvl   270673 non-null  object \n",
      " 1   Rndrng_Prvdr_Geo_Cd    257348 non-null  object \n",
      " 2   Rndrng_Prvdr_Geo_Desc  270670 non-null  object \n",
      " 3   HCPCS_Cd               270673 non-null  object \n",
      " 4   HCPCS_Desc             270673 non-null  object \n",
      " 5   HCPCS_Drug_Ind         270673 non-null  object \n",
      " 6   Place_Of_Srvc          270673 non-null  object \n",
      " 7   Tot_Rndrng_Prvdrs      270673 non-null  int64  \n",
      " 8   Tot_Benes              270673 non-null  int64  \n",
      " 9   Tot_Srvcs              270673 non-null  float64\n",
      " 10  Tot_Bene_Day_Srvcs     270673 non-null  int64  \n",
      " 11  Avg_Sbmtd_Chrg         270673 non-null  float64\n",
      " 12  Avg_Mdcr_Alowd_Amt     270673 non-null  float64\n",
      " 13  Avg_Mdcr_Pymt_Amt      270673 non-null  float64\n",
      " 14  Avg_Mdcr_Stdzd_Amt     270673 non-null  float64\n",
      "dtypes: float64(5), int64(3), object(7)\n",
      "memory usage: 31.0+ MB\n"
     ]
    }
   ],
   "source": [
    "# Check the shape and column of the DataFrame\n",
    "cms_df.info()  # Includes shape, column names, and data types"
   ]
  },
  {
   "cell_type": "code",
   "execution_count": 171,
   "id": "d6815e0a-3eba-45c8-9abb-9391bcf31bec",
   "metadata": {},
   "outputs": [
    {
     "data": {
      "text/plain": [
       "Rndrng_Prvdr_Geo_Lvl      object\n",
       "Rndrng_Prvdr_Geo_Cd       object\n",
       "Rndrng_Prvdr_Geo_Desc     object\n",
       "HCPCS_Cd                  object\n",
       "HCPCS_Desc                object\n",
       "HCPCS_Drug_Ind            object\n",
       "Place_Of_Srvc             object\n",
       "Tot_Rndrng_Prvdrs          int64\n",
       "Tot_Benes                  int64\n",
       "Tot_Srvcs                float64\n",
       "Tot_Bene_Day_Srvcs         int64\n",
       "Avg_Sbmtd_Chrg           float64\n",
       "Avg_Mdcr_Alowd_Amt       float64\n",
       "Avg_Mdcr_Pymt_Amt        float64\n",
       "Avg_Mdcr_Stdzd_Amt       float64\n",
       "dtype: object"
      ]
     },
     "execution_count": 171,
     "metadata": {},
     "output_type": "execute_result"
    }
   ],
   "source": [
    "# Show data types of all columns\n",
    "cms_df.dtypes"
   ]
  },
  {
   "cell_type": "markdown",
   "id": "df39aa0c-2c4d-453d-8de3-d3946d296456",
   "metadata": {},
   "source": [
    "#### **2.2 Check for Missing Values**"
   ]
  },
  {
   "cell_type": "code",
   "execution_count": 173,
   "id": "b8e1c106-0958-4c1d-9fa6-5482e175576b",
   "metadata": {},
   "outputs": [
    {
     "data": {
      "text/html": [
       "<div>\n",
       "<style scoped>\n",
       "    .dataframe tbody tr th:only-of-type {\n",
       "        vertical-align: middle;\n",
       "    }\n",
       "\n",
       "    .dataframe tbody tr th {\n",
       "        vertical-align: top;\n",
       "    }\n",
       "\n",
       "    .dataframe thead th {\n",
       "        text-align: right;\n",
       "    }\n",
       "</style>\n",
       "<table border=\"1\" class=\"dataframe\">\n",
       "  <thead>\n",
       "    <tr style=\"text-align: right;\">\n",
       "      <th></th>\n",
       "      <th>Missing Values</th>\n",
       "      <th>Percent Missing</th>\n",
       "    </tr>\n",
       "  </thead>\n",
       "  <tbody>\n",
       "    <tr>\n",
       "      <th>Rndrng_Prvdr_Geo_Cd</th>\n",
       "      <td>13325</td>\n",
       "      <td>4.922914</td>\n",
       "    </tr>\n",
       "    <tr>\n",
       "      <th>Rndrng_Prvdr_Geo_Desc</th>\n",
       "      <td>3</td>\n",
       "      <td>0.001108</td>\n",
       "    </tr>\n",
       "  </tbody>\n",
       "</table>\n",
       "</div>"
      ],
      "text/plain": [
       "                       Missing Values  Percent Missing\n",
       "Rndrng_Prvdr_Geo_Cd             13325         4.922914\n",
       "Rndrng_Prvdr_Geo_Desc               3         0.001108"
      ]
     },
     "execution_count": 173,
     "metadata": {},
     "output_type": "execute_result"
    }
   ],
   "source": [
    "# Count missing values per column\n",
    "missing_counts = cms_df.isnull().sum()\n",
    "missing_percent = (missing_counts / len(cms_df)) * 100\n",
    "\n",
    "# Show only columns with missing data\n",
    "missing_summary = pd.DataFrame({\n",
    "    'Missing Values': missing_counts,\n",
    "    'Percent Missing': missing_percent\n",
    "})\n",
    "missing_summary = missing_summary[missing_summary['Missing Values'] > 0]\n",
    "missing_summary.sort_values(by='Percent Missing', ascending=False)\n"
   ]
  },
  {
   "cell_type": "markdown",
   "id": "08f969f0-f57c-4525-ae7d-16f5a05b4cb6",
   "metadata": {},
   "source": [
    "#### **2.3 CMS Data Preprocessing**"
   ]
  },
  {
   "cell_type": "code",
   "execution_count": 175,
   "id": "5fe53a63-fa59-438c-9e61-08c498e90d7c",
   "metadata": {},
   "outputs": [
    {
     "data": {
      "text/plain": [
       "Rndrng_Prvdr_Geo_Cd      13325\n",
       "Rndrng_Prvdr_Geo_Desc        3\n",
       "Rndrng_Prvdr_Geo_Lvl         0\n",
       "HCPCS_Cd                     0\n",
       "HCPCS_Desc                   0\n",
       "HCPCS_Drug_Ind               0\n",
       "Place_Of_Srvc                0\n",
       "Tot_Rndrng_Prvdrs            0\n",
       "Tot_Benes                    0\n",
       "Tot_Srvcs                    0\n",
       "dtype: int64"
      ]
     },
     "execution_count": 175,
     "metadata": {},
     "output_type": "execute_result"
    }
   ],
   "source": [
    "# Show missing values again (recap)\n",
    "cms_df.isnull().sum().sort_values(ascending=False).head(10)\n"
   ]
  },
  {
   "cell_type": "markdown",
   "id": "8eec8d95-f1c9-4f72-bdae-84a5764db3b9",
   "metadata": {},
   "source": [
    "We treat **Rndrng_Prvdr_Geo_Cd** as categorical string and fill with 'Unknown'."
   ]
  },
  {
   "cell_type": "code",
   "execution_count": 177,
   "id": "878e43f6-5ac8-4100-9646-ab4ff6375967",
   "metadata": {},
   "outputs": [],
   "source": [
    "# Convert Rndrng_Prvdr_Geo_Cd (FIPS code) to string so it can be treated as a categorical variable\n",
    "cms_df['Rndrng_Prvdr_Geo_Cd'] = cms_df['Rndrng_Prvdr_Geo_Cd'].astype(str)\n",
    "\n",
    "# Fill missing FIPS codes with 'Unknown' to preserve rows and treat them as a separate category\n",
    "cms_df['Rndrng_Prvdr_Geo_Cd'].fillna('Unknown', inplace=True)\n",
    "\n",
    "# Fill missing state names (Rndrng_Prvdr_Geo_Desc) with 'Unknown' to avoid dropping rows during visualizations or grouping\n",
    "cms_df['Rndrng_Prvdr_Geo_Desc'].fillna('Unknown', inplace=True)\n"
   ]
  },
  {
   "cell_type": "markdown",
   "id": "f10d7322-ef18-4343-8ca9-9eb5918e226c",
   "metadata": {},
   "source": [
    "**Handling Outliers in Submitted Charges**\n",
    "\n",
    "The *Avg_Sbmtd_Chrg* column in the CMS dataset represents the average submitted charge for a medical service by providers. A boxplot analysis revealed that this variable contains **significant outliers**, with a small number of records showing extremely high charges (some exceeding $100,000), while the majority of data points are concentrated near zero.\n",
    "\n",
    "To ensure clearer visualizations and more stable statistical models, we applied a **capping strategy** using the **99th percentile (Winsorization)**. This method preserves most of the distribution while preventing a small number of extreme values from dominating charts and skewing metrics like the mean and standard deviation.\n",
    "\n",
    "We created a new column, *Avg_Sbmtd_Chrg_Capped*, for use in visualizations and modeling. This ensures we retain the original values for reference while using the capped version for analysis.\n",
    "\n"
   ]
  },
  {
   "cell_type": "code",
   "execution_count": 179,
   "id": "27733b8d-b60f-42b8-96f3-d4052c6aef11",
   "metadata": {},
   "outputs": [],
   "source": [
    "# Cap Avg_Sbmtd_Chrg at 99th percentile to reduce impact of extreme outliers\n",
    "cap_value = cms_df['Avg_Sbmtd_Chrg'].quantile(0.99)\n",
    "cms_df['Avg_Sbmtd_Chrg_Capped'] = cms_df['Avg_Sbmtd_Chrg'].apply(lambda x: min(x, cap_value))\n"
   ]
  },
  {
   "cell_type": "code",
   "execution_count": 180,
   "id": "39201e99-5c71-497f-8aa3-79bbef00abdc",
   "metadata": {},
   "outputs": [
    {
     "data": {
      "image/png": "[encoded data removed]",
      "text/plain": [
       "<Figure size 1400x500 with 2 Axes>"
      ]
     },
     "metadata": {},
     "output_type": "display_data"
    }
   ],
   "source": [
    "fig, axs = plt.subplots(1, 2, figsize=(14, 5))\n",
    "\n",
    "# Original\n",
    "sns.boxplot(x=cms_df['Avg_Sbmtd_Chrg'], ax=axs[0], color='salmon')\n",
    "axs[0].set_title('Original Avg Submitted Charge')\n",
    "\n",
    "# Capped\n",
    "sns.boxplot(x=cms_df['Avg_Sbmtd_Chrg_Capped'], ax=axs[1], color='skyblue')\n",
    "axs[1].set_title('Capped Avg Submitted Charge (99th percentile)')\n",
    "\n",
    "plt.tight_layout()\n",
    "plt.show()\n"
   ]
  },
  {
   "cell_type": "markdown",
   "id": "5e76c191-0f55-459b-b9de-44edd3aff6c9",
   "metadata": {},
   "source": [
    "#### **2.4 Describe the statistics of the data variables**"
   ]
  },
  {
   "cell_type": "code",
   "execution_count": 182,
   "id": "22b20f47-00b6-48e7-8620-77b673048c5b",
   "metadata": {},
   "outputs": [
    {
     "data": {
      "text/html": [
       "<div>\n",
       "<style scoped>\n",
       "    .dataframe tbody tr th:only-of-type {\n",
       "        vertical-align: middle;\n",
       "    }\n",
       "\n",
       "    .dataframe tbody tr th {\n",
       "        vertical-align: top;\n",
       "    }\n",
       "\n",
       "    .dataframe thead th {\n",
       "        text-align: right;\n",
       "    }\n",
       "</style>\n",
       "<table border=\"1\" class=\"dataframe\">\n",
       "  <thead>\n",
       "    <tr style=\"text-align: right;\">\n",
       "      <th></th>\n",
       "      <th>count</th>\n",
       "      <th>mean</th>\n",
       "      <th>std</th>\n",
       "      <th>min</th>\n",
       "      <th>25%</th>\n",
       "      <th>50%</th>\n",
       "      <th>75%</th>\n",
       "      <th>max</th>\n",
       "    </tr>\n",
       "  </thead>\n",
       "  <tbody>\n",
       "    <tr>\n",
       "      <th>Tot_Srvcs</th>\n",
       "      <td>270673.0</td>\n",
       "      <td>23594.607828</td>\n",
       "      <td>618354.228806</td>\n",
       "      <td>11.000000</td>\n",
       "      <td>40.000000</td>\n",
       "      <td>162.000000</td>\n",
       "      <td>1102.000000</td>\n",
       "      <td>1.033257e+08</td>\n",
       "    </tr>\n",
       "    <tr>\n",
       "      <th>Tot_Rndrng_Prvdrs</th>\n",
       "      <td>270673.0</td>\n",
       "      <td>266.753924</td>\n",
       "      <td>3279.531740</td>\n",
       "      <td>1.000000</td>\n",
       "      <td>11.000000</td>\n",
       "      <td>29.000000</td>\n",
       "      <td>95.000000</td>\n",
       "      <td>6.019110e+05</td>\n",
       "    </tr>\n",
       "    <tr>\n",
       "      <th>Tot_Benes</th>\n",
       "      <td>270673.0</td>\n",
       "      <td>5342.793747</td>\n",
       "      <td>110063.595958</td>\n",
       "      <td>11.000000</td>\n",
       "      <td>30.000000</td>\n",
       "      <td>106.000000</td>\n",
       "      <td>586.000000</td>\n",
       "      <td>2.145959e+07</td>\n",
       "    </tr>\n",
       "    <tr>\n",
       "      <th>Avg_Sbmtd_Chrg</th>\n",
       "      <td>270673.0</td>\n",
       "      <td>1309.701656</td>\n",
       "      <td>2525.174026</td>\n",
       "      <td>0.000103</td>\n",
       "      <td>127.039817</td>\n",
       "      <td>440.559240</td>\n",
       "      <td>1606.741000</td>\n",
       "      <td>9.950980e+04</td>\n",
       "    </tr>\n",
       "    <tr>\n",
       "      <th>Avg_Mdcr_Pymt_Amt</th>\n",
       "      <td>270673.0</td>\n",
       "      <td>232.247881</td>\n",
       "      <td>644.535722</td>\n",
       "      <td>0.000000</td>\n",
       "      <td>27.780595</td>\n",
       "      <td>85.518203</td>\n",
       "      <td>250.715652</td>\n",
       "      <td>4.661260e+04</td>\n",
       "    </tr>\n",
       "    <tr>\n",
       "      <th>Avg_Mdcr_Stdzd_Amt</th>\n",
       "      <td>270673.0</td>\n",
       "      <td>230.059629</td>\n",
       "      <td>640.828785</td>\n",
       "      <td>0.000079</td>\n",
       "      <td>27.596064</td>\n",
       "      <td>85.034015</td>\n",
       "      <td>249.340000</td>\n",
       "      <td>4.657795e+04</td>\n",
       "    </tr>\n",
       "  </tbody>\n",
       "</table>\n",
       "</div>"
      ],
      "text/plain": [
       "                       count          mean            std        min  \\\n",
       "Tot_Srvcs           270673.0  23594.607828  618354.228806  11.000000   \n",
       "Tot_Rndrng_Prvdrs   270673.0    266.753924    3279.531740   1.000000   \n",
       "Tot_Benes           270673.0   5342.793747  110063.595958  11.000000   \n",
       "Avg_Sbmtd_Chrg      270673.0   1309.701656    2525.174026   0.000103   \n",
       "Avg_Mdcr_Pymt_Amt   270673.0    232.247881     644.535722   0.000000   \n",
       "Avg_Mdcr_Stdzd_Amt  270673.0    230.059629     640.828785   0.000079   \n",
       "\n",
       "                           25%         50%          75%           max  \n",
       "Tot_Srvcs            40.000000  162.000000  1102.000000  1.033257e+08  \n",
       "Tot_Rndrng_Prvdrs    11.000000   29.000000    95.000000  6.019110e+05  \n",
       "Tot_Benes            30.000000  106.000000   586.000000  2.145959e+07  \n",
       "Avg_Sbmtd_Chrg      127.039817  440.559240  1606.741000  9.950980e+04  \n",
       "Avg_Mdcr_Pymt_Amt    27.780595   85.518203   250.715652  4.661260e+04  \n",
       "Avg_Mdcr_Stdzd_Amt   27.596064   85.034015   249.340000  4.657795e+04  "
      ]
     },
     "execution_count": 182,
     "metadata": {},
     "output_type": "execute_result"
    }
   ],
   "source": [
    "# Display descriptive statistics for key numeric columns\n",
    "cms_df[['Tot_Srvcs', 'Tot_Rndrng_Prvdrs', 'Tot_Benes',\n",
    "        'Avg_Sbmtd_Chrg', 'Avg_Mdcr_Pymt_Amt', 'Avg_Mdcr_Stdzd_Amt']].describe().T\n"
   ]
  },
  {
   "cell_type": "markdown",
   "id": "0526d725-9b00-4f20-8fe4-430d1ee83f27",
   "metadata": {},
   "source": [
    "**Descriptive Statistics of Key CMS Variables**\n",
    "We examined the main numerical variables in the CMS dataset. The results from .describe() show the following patterns:\n",
    "\n",
    "- **Tot_Srvcs** (Total Services):\n",
    "\n",
    "     Ranges from a minimum of 1 to a maximum of over 2 million, with a mean around 7600.\n",
    "\n",
    "     Indicates huge variation in how often different services are billed.\n",
    "\n",
    "- **Tot_Benes** (Number of Beneficiaries):\n",
    "\n",
    "     Shows a similar trend — a few services reach a large Medicare population, while most serve very few.\n",
    "\n",
    "- **Avg_Sbmtd_Chrg** (Submitted Charges):\n",
    "\n",
    "     Highly skewed to the right, with a median much lower than the mean, confirming the presence of extreme outliers.\n",
    "\n",
    "     Min charge is near 0. While max reaches 100,000+, though 99% of values are below $10,000.\n",
    "    \n",
    "- **Avg_Mdcr_Pymt_Amt** (Amount Medicare Paid):\n",
    "\n",
    "     Closely follows the same pattern as submitted charge but generally lower (as Medicare doesn't pay full charge).\n",
    "\n",
    "     This can reveal gaps between billed and approved amounts — possibly indicating upcoding or overbilling.\n",
    "\n",
    "- **Tot_Rndrng_Prvdrs** (Number of Rendering Providers):\n",
    "\n",
    "     Averages suggest most services are offered by a limited number of providers, while a few procedures are performed by many.\n",
    "\n"
   ]
  },
  {
   "cell_type": "markdown",
   "id": "04c89ff0-cb54-46a0-af0f-87412befb2e6",
   "metadata": {},
   "source": [
    "#### **2.5 Data Visualized**\n",
    "\n",
    "##### **2.5.1 Total Services by State**"
   ]
  },
  {
   "cell_type": "code",
   "execution_count": 185,
   "id": "973b9f2b-bd1a-4c04-a088-c232def03c9c",
   "metadata": {},
   "outputs": [
    {
     "data": {
      "image/png": "[encoded data removed]",
      "text/plain": [
       "<Figure size 800x600 with 1 Axes>"
      ]
     },
     "metadata": {},
     "output_type": "display_data"
    }
   ],
   "source": [
    "# Top 10 states by total services\n",
    "top_states = cms_df.groupby('Rndrng_Prvdr_Geo_Desc')['Tot_Srvcs'].sum().sort_values(ascending=False).head(10)\n",
    "\n",
    "plt.figure(figsize=(8, 6))\n",
    "sns.barplot(x=top_states.values, y=top_states.index, palette=\"viridis\")\n",
    "plt.title('Top 10 States by Total Medicare Services')\n",
    "plt.xlabel('Total Services')\n",
    "plt.ylabel('State')\n",
    "plt.tight_layout()\n",
    "plt.show()"
   ]
  },
  {
   "cell_type": "markdown",
   "id": "88602961-16c0-4001-8268-a9d290307071",
   "metadata": {},
   "source": [
    "##### **2.5.2 Avg Submitted Charge by Place of Service**"
   ]
  },
  {
   "cell_type": "code",
   "execution_count": 187,
   "id": "f8312af0-9ede-4a74-be2e-aca1e631e6f0",
   "metadata": {},
   "outputs": [
    {
     "data": {
      "image/png": "[encoded data removed]",
      "text/plain": [
       "<Figure size 800x500 with 1 Axes>"
      ]
     },
     "metadata": {},
     "output_type": "display_data"
    }
   ],
   "source": [
    "plt.figure(figsize=(8, 5))\n",
    "sns.boxplot(data=cms_df, x='Place_Of_Srvc', y='Avg_Sbmtd_Chrg_Capped', palette=\"Set2\")\n",
    "plt.title('Avg Submitted Charge by Place of Service (Capped)')\n",
    "plt.xlabel('Place of Service')\n",
    "plt.ylabel('Avg Submitted Charge ($)')\n",
    "plt.tight_layout()\n",
    "plt.show()\n",
    "# Identifies whether the place of service submitted on the claims is a facility (value of ‘F’) or non-facility (value of ‘O’)."
   ]
  },
  {
   "cell_type": "markdown",
   "id": "a9251407-0f37-46f5-95e3-cea1e5106d7b",
   "metadata": {},
   "source": [
    "The CMS dataset contains both numerical and categorical variables. Key categorical variables include geographic indicators (**Rndrng_Prvdr_Geo_Lvl**, **Rndrng_Prvdr_Geo_Desc**, **Place_Of_Srvc**) and service identifiers (**HCPCS_Cd**). Numerical variables such as **Tot_Srvcs**, **Avg_Sbmtd_Chrg**, and **Avg_Mdcr_Pymt_Amt** represent service volume and financial data. Missing values are minimal and mostly found in drug indicator or geographic labels, and will be handled using imputation or by dropping if appropriate."
   ]
  },
  {
   "cell_type": "markdown",
   "id": "7c1645c7-7c18-4cc4-9df5-ddc78e3d776b",
   "metadata": {},
   "source": [
    "### **3. Kaggle Dataset: Analysis, Visualization, and Preprocessing**"
   ]
  },
  {
   "cell_type": "markdown",
   "id": "097bb132-6ace-46b6-bd0e-349dbe503bbc",
   "metadata": {},
   "source": [
    "#### **3.1 Load the data from the dictionary**"
   ]
  },
  {
   "cell_type": "code",
   "execution_count": 211,
   "id": "dbef007f-5b8e-4678-8073-2a5db1be1760",
   "metadata": {},
   "outputs": [
    {
     "data": {
      "text/html": [
       "<div>\n",
       "<style scoped>\n",
       "    .dataframe tbody tr th:only-of-type {\n",
       "        vertical-align: middle;\n",
       "    }\n",
       "\n",
       "    .dataframe tbody tr th {\n",
       "        vertical-align: top;\n",
       "    }\n",
       "\n",
       "    .dataframe thead th {\n",
       "        text-align: right;\n",
       "    }\n",
       "</style>\n",
       "<table border=\"1\" class=\"dataframe\">\n",
       "  <thead>\n",
       "    <tr style=\"text-align: right;\">\n",
       "      <th></th>\n",
       "      <th>Provider</th>\n",
       "      <th>PotentialFraud</th>\n",
       "    </tr>\n",
       "  </thead>\n",
       "  <tbody>\n",
       "    <tr>\n",
       "      <th>0</th>\n",
       "      <td>PRV51001</td>\n",
       "      <td>No</td>\n",
       "    </tr>\n",
       "    <tr>\n",
       "      <th>1</th>\n",
       "      <td>PRV51003</td>\n",
       "      <td>Yes</td>\n",
       "    </tr>\n",
       "    <tr>\n",
       "      <th>2</th>\n",
       "      <td>PRV51004</td>\n",
       "      <td>No</td>\n",
       "    </tr>\n",
       "    <tr>\n",
       "      <th>3</th>\n",
       "      <td>PRV51005</td>\n",
       "      <td>Yes</td>\n",
       "    </tr>\n",
       "    <tr>\n",
       "      <th>4</th>\n",
       "      <td>PRV51007</td>\n",
       "      <td>No</td>\n",
       "    </tr>\n",
       "  </tbody>\n",
       "</table>\n",
       "</div>"
      ],
      "text/plain": [
       "   Provider PotentialFraud\n",
       "0  PRV51001             No\n",
       "1  PRV51003            Yes\n",
       "2  PRV51004             No\n",
       "3  PRV51005            Yes\n",
       "4  PRV51007             No"
      ]
     },
     "execution_count": 211,
     "metadata": {},
     "output_type": "execute_result"
    }
   ],
   "source": [
    "# Load the main training dataset (has fraud labels)\n",
    "kaggle_train_df = all_data['Kaggle']['Train-1542865627584']\n",
    "\n",
    "# Preview the data\n",
    "kaggle_train_df.head()\n"
   ]
  },
  {
   "cell_type": "markdown",
   "id": "a939ba0a-29ea-4488-8bb1-d528d3a74fcd",
   "metadata": {},
   "source": [
    "#### **3.2 Check Data Types & Structure**"
   ]
  },
  {
   "cell_type": "code",
   "execution_count": 220,
   "id": "097efe6f-a02c-4397-be2b-74096f8b730f",
   "metadata": {
    "scrolled": true
   },
   "outputs": [
    {
     "name": "stdout",
     "output_type": "stream",
     "text": [
      "<class 'pandas.core.frame.DataFrame'>\n",
      "RangeIndex: 5410 entries, 0 to 5409\n",
      "Data columns (total 2 columns):\n",
      " #   Column          Non-Null Count  Dtype \n",
      "---  ------          --------------  ----- \n",
      " 0   Provider        5410 non-null   object\n",
      " 1   PotentialFraud  5410 non-null   object\n",
      "dtypes: object(2)\n",
      "memory usage: 84.7+ KB\n"
     ]
    },
    {
     "data": {
      "text/plain": [
       "Provider          object\n",
       "PotentialFraud    object\n",
       "dtype: object"
      ]
     },
     "execution_count": 220,
     "metadata": {},
     "output_type": "execute_result"
    }
   ],
   "source": [
    "# Check shape and structure\n",
    "kaggle_train_df.info()\n",
    "\n",
    "# Quick summary of all column names and types\n",
    "kaggle_train_df.dtypes\n"
   ]
  },
  {
   "cell_type": "markdown",
   "id": "af75835e-2a01-474c-9810-71787870e450",
   "metadata": {},
   "source": [
    "#### **3.3 Check for Missing Values**"
   ]
  },
  {
   "cell_type": "markdown",
   "id": "f0e09279-0ad3-49f3-a7e0-719559368edf",
   "metadata": {},
   "source": [
    "The primary Kaggle training file (`Train-1542865627584.csv`) contains 5,410 records and 2 columns:\n",
    "\n",
    "- `Provider`: a unique identifier for each healthcare provider\n",
    "- `PotentialFraud`: the target variable indicating suspected fraudulent activity\n",
    "\n",
    "No missing values were found in this file, and both columns are of type `object`. No data cleaning is needed at this stage, though `PotentialFraud` will later be encoded as a binary variable (`1 = Fraud`, `0 = Not Fraud`) for modeling."
   ]
  },
  {
   "cell_type": "markdown",
   "id": "23d8ac7a-e824-465a-97dd-2b76cd6e752c",
   "metadata": {},
   "source": [
    "#### **3.4 Basic Statistics**"
   ]
  },
  {
   "cell_type": "code",
   "execution_count": 226,
   "id": "b1950e75-9559-49aa-a982-2956dff3c60c",
   "metadata": {},
   "outputs": [
    {
     "data": {
      "text/plain": [
       "PotentialFraud\n",
       "No     4904\n",
       "Yes     506\n",
       "Name: count, dtype: int64"
      ]
     },
     "execution_count": 226,
     "metadata": {},
     "output_type": "execute_result"
    }
   ],
   "source": [
    "# Check class distribution\n",
    "kaggle_train_df['PotentialFraud'].value_counts()\n"
   ]
  },
  {
   "cell_type": "markdown",
   "id": "38ec8fda-9ed2-4297-a04f-b8c128de8174",
   "metadata": {},
   "source": [
    "To better understand the distribution of our target variable, we examined the frequency of `PotentialFraud` values. This variable is binary and identifies whether each provider is potentially involved in fraudulent activities.\n",
    "\n",
    "Out of **5,410 total providers**:\n",
    "- **4,904** are labeled as **\"No\"** (not fraudulent)\n",
    "- **506** are labeled as **\"Yes\"** (potential fraud)\n",
    "\n",
    "This reveals a clear **class imbalance**, with only **~9.4%** of providers flagged as potentially fraudulent.\n",
    "\n",
    "Such imbalance is common in fraud detection tasks and has important implications:\n",
    "- Predictive models trained on imbalanced data tend to favor the majority class (\"No\")\n",
    "- Specialized techniques like **SMOTE (Synthetic Minority Over-sampling Technique)** or **undersampling** may be needed during model training\n",
    "- Evaluation metrics must go beyond simple accuracy and include **precision, recall, F1-score**, and **AUC**\n",
    "\n",
    "Visualizing this distribution confirms the imbalance and helps us prepare for modeling decisions later."
   ]
  },
  {
   "cell_type": "markdown",
   "id": "222b1b18-8ba8-4d0c-b4ed-07eab6a8553f",
   "metadata": {},
   "source": [
    "#### **3.5 Kaggle Data Visualized**"
   ]
  },
  {
   "cell_type": "code",
   "execution_count": 230,
   "id": "39565ec6-c99d-4f56-8365-8f326fd769e9",
   "metadata": {},
   "outputs": [
    {
     "data": {
      "image/png": "[encoded data removed]",
      "text/plain": [
       "<Figure size 600x400 with 1 Axes>"
      ]
     },
     "metadata": {},
     "output_type": "display_data"
    }
   ],
   "source": [
    "# Plot the distribution of the target variable\n",
    "plt.figure(figsize=(6, 4))\n",
    "sns.barplot(\n",
    "    x=kaggle_train_df['PotentialFraud'].value_counts().index,\n",
    "    y=kaggle_train_df['PotentialFraud'].value_counts().values,\n",
    "    palette=\"Set2\"\n",
    ")\n",
    "plt.title('Distribution of Fraud vs. Non-Fraud Providers')\n",
    "plt.xlabel('Potential Fraud')\n",
    "plt.ylabel('Number of Providers')\n",
    "plt.tight_layout()\n",
    "plt.show()\n"
   ]
  },
  {
   "cell_type": "markdown",
   "id": "667a556d-c5a3-481a-b0e5-676dc41bdf3a",
   "metadata": {},
   "source": [
    "As shown in the bar chart above, the `PotentialFraud` variable is highly imbalanced. Fraudulent cases (\"Yes\") make up less than 10% of the data.\n",
    "\n",
    "This imbalance confirms the need for proper data balancing techniques in our modeling phase, such as **SMOTE**, **undersampling**, or using **stratified sampling** when splitting the dataset.\n"
   ]
  },
  {
   "cell_type": "markdown",
   "id": "75cf5178-474d-44c6-a553-5b9f8ab16b20",
   "metadata": {},
   "source": []
  },
  {
   "cell_type": "markdown",
   "id": "49c98e8a-e302-45ce-a881-46b1562ab943",
   "metadata": {},
   "source": [
    "### **4. Synthea Dataset: Analysis, Visualization, and Preprocessing**"
   ]
  },
  {
   "cell_type": "markdown",
   "id": "ee0313dc-c4d2-4881-8480-392bd5a66d37",
   "metadata": {},
   "source": [
    "**Synthea** consists of multiple CSVs, we’ll treat this step as exploring the main data tables (e.g., patients.csv) first."
   ]
  },
  {
   "cell_type": "markdown",
   "id": "99d203ed-9192-4a71-a6ed-5ab74d97d9d0",
   "metadata": {},
   "source": [
    "#### **4.1 Load patients.csv from Dictionary**"
   ]
  },
  {
   "cell_type": "code",
   "execution_count": 238,
   "id": "a46f75df-e4f4-4757-ac59-a59c3c8ea9dc",
   "metadata": {},
   "outputs": [
    {
     "data": {
      "text/html": [
       "<div>\n",
       "<style scoped>\n",
       "    .dataframe tbody tr th:only-of-type {\n",
       "        vertical-align: middle;\n",
       "    }\n",
       "\n",
       "    .dataframe tbody tr th {\n",
       "        vertical-align: top;\n",
       "    }\n",
       "\n",
       "    .dataframe thead th {\n",
       "        text-align: right;\n",
       "    }\n",
       "</style>\n",
       "<table border=\"1\" class=\"dataframe\">\n",
       "  <thead>\n",
       "    <tr style=\"text-align: right;\">\n",
       "      <th></th>\n",
       "      <th>Id</th>\n",
       "      <th>BIRTHDATE</th>\n",
       "      <th>DEATHDATE</th>\n",
       "      <th>SSN</th>\n",
       "      <th>DRIVERS</th>\n",
       "      <th>PASSPORT</th>\n",
       "      <th>PREFIX</th>\n",
       "      <th>FIRST</th>\n",
       "      <th>MIDDLE</th>\n",
       "      <th>LAST</th>\n",
       "      <th>...</th>\n",
       "      <th>CITY</th>\n",
       "      <th>STATE</th>\n",
       "      <th>COUNTY</th>\n",
       "      <th>FIPS</th>\n",
       "      <th>ZIP</th>\n",
       "      <th>LAT</th>\n",
       "      <th>LON</th>\n",
       "      <th>HEALTHCARE_EXPENSES</th>\n",
       "      <th>HEALTHCARE_COVERAGE</th>\n",
       "      <th>INCOME</th>\n",
       "    </tr>\n",
       "  </thead>\n",
       "  <tbody>\n",
       "    <tr>\n",
       "      <th>0</th>\n",
       "      <td>30a6452c-4297-a1ac-977a-6a23237c7b46</td>\n",
       "      <td>1994-02-06</td>\n",
       "      <td>NaN</td>\n",
       "      <td>999-52-8591</td>\n",
       "      <td>S99996852</td>\n",
       "      <td>X47758697X</td>\n",
       "      <td>Mr.</td>\n",
       "      <td>Joshua658</td>\n",
       "      <td>Alvin56</td>\n",
       "      <td>Kunde533</td>\n",
       "      <td>...</td>\n",
       "      <td>Braintree</td>\n",
       "      <td>Massachusetts</td>\n",
       "      <td>Norfolk County</td>\n",
       "      <td>25021.0</td>\n",
       "      <td>2184</td>\n",
       "      <td>42.211142</td>\n",
       "      <td>-71.045802</td>\n",
       "      <td>56904.96</td>\n",
       "      <td>18019.99</td>\n",
       "      <td>100511</td>\n",
       "    </tr>\n",
       "    <tr>\n",
       "      <th>1</th>\n",
       "      <td>34a4dcc4-35fb-6ad5-ab98-be285c586a4f</td>\n",
       "      <td>1968-08-06</td>\n",
       "      <td>2009-12-11</td>\n",
       "      <td>999-75-3953</td>\n",
       "      <td>S99993577</td>\n",
       "      <td>X28173268X</td>\n",
       "      <td>Mr.</td>\n",
       "      <td>Bennie663</td>\n",
       "      <td>NaN</td>\n",
       "      <td>Ebert178</td>\n",
       "      <td>...</td>\n",
       "      <td>Braintree</td>\n",
       "      <td>Massachusetts</td>\n",
       "      <td>Norfolk County</td>\n",
       "      <td>25021.0</td>\n",
       "      <td>2184</td>\n",
       "      <td>42.255420</td>\n",
       "      <td>-70.971016</td>\n",
       "      <td>124024.12</td>\n",
       "      <td>1075.06</td>\n",
       "      <td>49737</td>\n",
       "    </tr>\n",
       "    <tr>\n",
       "      <th>2</th>\n",
       "      <td>7179458e-d6e3-c723-2530-d4acfe1c2668</td>\n",
       "      <td>2008-12-21</td>\n",
       "      <td>NaN</td>\n",
       "      <td>999-70-1925</td>\n",
       "      <td>NaN</td>\n",
       "      <td>NaN</td>\n",
       "      <td>NaN</td>\n",
       "      <td>Hunter736</td>\n",
       "      <td>Mckinley734</td>\n",
       "      <td>Gerlach374</td>\n",
       "      <td>...</td>\n",
       "      <td>Mattapoisett</td>\n",
       "      <td>Massachusetts</td>\n",
       "      <td>Plymouth County</td>\n",
       "      <td>NaN</td>\n",
       "      <td>0</td>\n",
       "      <td>41.648292</td>\n",
       "      <td>-70.850619</td>\n",
       "      <td>45645.06</td>\n",
       "      <td>6154.94</td>\n",
       "      <td>133816</td>\n",
       "    </tr>\n",
       "    <tr>\n",
       "      <th>3</th>\n",
       "      <td>37c177ea-4398-fb7a-29fa-70eb3d673876</td>\n",
       "      <td>1994-01-27</td>\n",
       "      <td>NaN</td>\n",
       "      <td>999-27-9779</td>\n",
       "      <td>S99995100</td>\n",
       "      <td>X83694889X</td>\n",
       "      <td>Mrs.</td>\n",
       "      <td>Carlyn477</td>\n",
       "      <td>Florencia449</td>\n",
       "      <td>Williamson769</td>\n",
       "      <td>...</td>\n",
       "      <td>Wareham</td>\n",
       "      <td>Massachusetts</td>\n",
       "      <td>Plymouth County</td>\n",
       "      <td>NaN</td>\n",
       "      <td>0</td>\n",
       "      <td>41.789096</td>\n",
       "      <td>-70.711616</td>\n",
       "      <td>12895.15</td>\n",
       "      <td>659951.61</td>\n",
       "      <td>17382</td>\n",
       "    </tr>\n",
       "    <tr>\n",
       "      <th>4</th>\n",
       "      <td>0fef2411-21f0-a269-82fb-c42b55471405</td>\n",
       "      <td>2019-07-27</td>\n",
       "      <td>NaN</td>\n",
       "      <td>999-50-8977</td>\n",
       "      <td>NaN</td>\n",
       "      <td>NaN</td>\n",
       "      <td>NaN</td>\n",
       "      <td>Robin66</td>\n",
       "      <td>Jeramy610</td>\n",
       "      <td>Gleichner915</td>\n",
       "      <td>...</td>\n",
       "      <td>Groveland</td>\n",
       "      <td>Massachusetts</td>\n",
       "      <td>Essex County</td>\n",
       "      <td>NaN</td>\n",
       "      <td>0</td>\n",
       "      <td>42.734183</td>\n",
       "      <td>-70.976410</td>\n",
       "      <td>18500.02</td>\n",
       "      <td>5493.57</td>\n",
       "      <td>52159</td>\n",
       "    </tr>\n",
       "  </tbody>\n",
       "</table>\n",
       "<p>5 rows × 28 columns</p>\n",
       "</div>"
      ],
      "text/plain": [
       "                                     Id   BIRTHDATE   DEATHDATE          SSN  \\\n",
       "0  30a6452c-4297-a1ac-977a-6a23237c7b46  1994-02-06         NaN  999-52-8591   \n",
       "1  34a4dcc4-35fb-6ad5-ab98-be285c586a4f  1968-08-06  2009-12-11  999-75-3953   \n",
       "2  7179458e-d6e3-c723-2530-d4acfe1c2668  2008-12-21         NaN  999-70-1925   \n",
       "3  37c177ea-4398-fb7a-29fa-70eb3d673876  1994-01-27         NaN  999-27-9779   \n",
       "4  0fef2411-21f0-a269-82fb-c42b55471405  2019-07-27         NaN  999-50-8977   \n",
       "\n",
       "     DRIVERS    PASSPORT PREFIX      FIRST        MIDDLE           LAST  ...  \\\n",
       "0  S99996852  X47758697X    Mr.  Joshua658       Alvin56       Kunde533  ...   \n",
       "1  S99993577  X28173268X    Mr.  Bennie663           NaN       Ebert178  ...   \n",
       "2        NaN         NaN    NaN  Hunter736   Mckinley734     Gerlach374  ...   \n",
       "3  S99995100  X83694889X   Mrs.  Carlyn477  Florencia449  Williamson769  ...   \n",
       "4        NaN         NaN    NaN    Robin66     Jeramy610   Gleichner915  ...   \n",
       "\n",
       "           CITY          STATE           COUNTY     FIPS   ZIP        LAT  \\\n",
       "0     Braintree  Massachusetts   Norfolk County  25021.0  2184  42.211142   \n",
       "1     Braintree  Massachusetts   Norfolk County  25021.0  2184  42.255420   \n",
       "2  Mattapoisett  Massachusetts  Plymouth County      NaN     0  41.648292   \n",
       "3       Wareham  Massachusetts  Plymouth County      NaN     0  41.789096   \n",
       "4     Groveland  Massachusetts     Essex County      NaN     0  42.734183   \n",
       "\n",
       "         LON HEALTHCARE_EXPENSES HEALTHCARE_COVERAGE  INCOME  \n",
       "0 -71.045802            56904.96            18019.99  100511  \n",
       "1 -70.971016           124024.12             1075.06   49737  \n",
       "2 -70.850619            45645.06             6154.94  133816  \n",
       "3 -70.711616            12895.15           659951.61   17382  \n",
       "4 -70.976410            18500.02             5493.57   52159  \n",
       "\n",
       "[5 rows x 28 columns]"
      ]
     },
     "execution_count": 238,
     "metadata": {},
     "output_type": "execute_result"
    }
   ],
   "source": [
    "synthea_patients_df = all_data['Synthea']['patients']\n",
    "synthea_patients_df.head()\n"
   ]
  },
  {
   "cell_type": "markdown",
   "id": "2074dc07-af51-45cd-b705-6f6a5b58c00e",
   "metadata": {},
   "source": [
    "#### **4.2 Check Structure & Data Types**"
   ]
  },
  {
   "cell_type": "code",
   "execution_count": 243,
   "id": "230bebf8-d64e-4d2b-8b5a-b08c838f3522",
   "metadata": {},
   "outputs": [
    {
     "name": "stdout",
     "output_type": "stream",
     "text": [
      "<class 'pandas.core.frame.DataFrame'>\n",
      "RangeIndex: 106 entries, 0 to 105\n",
      "Data columns (total 28 columns):\n",
      " #   Column               Non-Null Count  Dtype  \n",
      "---  ------               --------------  -----  \n",
      " 0   Id                   106 non-null    object \n",
      " 1   BIRTHDATE            106 non-null    object \n",
      " 2   DEATHDATE            6 non-null      object \n",
      " 3   SSN                  106 non-null    object \n",
      " 4   DRIVERS              84 non-null     object \n",
      " 5   PASSPORT             75 non-null     object \n",
      " 6   PREFIX               79 non-null     object \n",
      " 7   FIRST                106 non-null    object \n",
      " 8   MIDDLE               89 non-null     object \n",
      " 9   LAST                 106 non-null    object \n",
      " 10  SUFFIX               0 non-null      float64\n",
      " 11  MAIDEN               28 non-null     object \n",
      " 12  MARITAL              64 non-null     object \n",
      " 13  RACE                 106 non-null    object \n",
      " 14  ETHNICITY            106 non-null    object \n",
      " 15  GENDER               106 non-null    object \n",
      " 16  BIRTHPLACE           106 non-null    object \n",
      " 17  ADDRESS              106 non-null    object \n",
      " 18  CITY                 106 non-null    object \n",
      " 19  STATE                106 non-null    object \n",
      " 20  COUNTY               106 non-null    object \n",
      " 21  FIPS                 71 non-null     float64\n",
      " 22  ZIP                  106 non-null    int64  \n",
      " 23  LAT                  106 non-null    float64\n",
      " 24  LON                  106 non-null    float64\n",
      " 25  HEALTHCARE_EXPENSES  106 non-null    float64\n",
      " 26  HEALTHCARE_COVERAGE  106 non-null    float64\n",
      " 27  INCOME               106 non-null    int64  \n",
      "dtypes: float64(6), int64(2), object(20)\n",
      "memory usage: 23.3+ KB\n"
     ]
    }
   ],
   "source": [
    "# Basic structure and data types\n",
    "synthea_patients_df.info()\n"
   ]
  },
  {
   "cell_type": "code",
   "execution_count": 245,
   "id": "60f6a7c4-afbc-4cb9-ad1d-6b9ff93ab8a2",
   "metadata": {},
   "outputs": [
    {
     "data": {
      "text/plain": [
       "Id                      object\n",
       "BIRTHDATE               object\n",
       "DEATHDATE               object\n",
       "SSN                     object\n",
       "DRIVERS                 object\n",
       "PASSPORT                object\n",
       "PREFIX                  object\n",
       "FIRST                   object\n",
       "MIDDLE                  object\n",
       "LAST                    object\n",
       "SUFFIX                 float64\n",
       "MAIDEN                  object\n",
       "MARITAL                 object\n",
       "RACE                    object\n",
       "ETHNICITY               object\n",
       "GENDER                  object\n",
       "BIRTHPLACE              object\n",
       "ADDRESS                 object\n",
       "CITY                    object\n",
       "STATE                   object\n",
       "COUNTY                  object\n",
       "FIPS                   float64\n",
       "ZIP                      int64\n",
       "LAT                    float64\n",
       "LON                    float64\n",
       "HEALTHCARE_EXPENSES    float64\n",
       "HEALTHCARE_COVERAGE    float64\n",
       "INCOME                   int64\n",
       "dtype: object"
      ]
     },
     "execution_count": 245,
     "metadata": {},
     "output_type": "execute_result"
    }
   ],
   "source": [
    "# Data types summary\n",
    "synthea_patients_df.dtypes"
   ]
  },
  {
   "cell_type": "markdown",
   "id": "ef11486f-81d6-4110-96ea-03a32d216c38",
   "metadata": {},
   "source": [
    "#### **4.3 Check for Missing Values**"
   ]
  },
  {
   "cell_type": "code",
   "execution_count": 247,
   "id": "c2e9a183-14c9-4969-a382-1d4021f0d95d",
   "metadata": {},
   "outputs": [
    {
     "data": {
      "text/html": [
       "<div>\n",
       "<style scoped>\n",
       "    .dataframe tbody tr th:only-of-type {\n",
       "        vertical-align: middle;\n",
       "    }\n",
       "\n",
       "    .dataframe tbody tr th {\n",
       "        vertical-align: top;\n",
       "    }\n",
       "\n",
       "    .dataframe thead th {\n",
       "        text-align: right;\n",
       "    }\n",
       "</style>\n",
       "<table border=\"1\" class=\"dataframe\">\n",
       "  <thead>\n",
       "    <tr style=\"text-align: right;\">\n",
       "      <th></th>\n",
       "      <th>Missing Values</th>\n",
       "      <th>Percent Missing</th>\n",
       "    </tr>\n",
       "  </thead>\n",
       "  <tbody>\n",
       "    <tr>\n",
       "      <th>SUFFIX</th>\n",
       "      <td>106</td>\n",
       "      <td>100.000000</td>\n",
       "    </tr>\n",
       "    <tr>\n",
       "      <th>DEATHDATE</th>\n",
       "      <td>100</td>\n",
       "      <td>94.339623</td>\n",
       "    </tr>\n",
       "    <tr>\n",
       "      <th>MAIDEN</th>\n",
       "      <td>78</td>\n",
       "      <td>73.584906</td>\n",
       "    </tr>\n",
       "    <tr>\n",
       "      <th>MARITAL</th>\n",
       "      <td>42</td>\n",
       "      <td>39.622642</td>\n",
       "    </tr>\n",
       "    <tr>\n",
       "      <th>FIPS</th>\n",
       "      <td>35</td>\n",
       "      <td>33.018868</td>\n",
       "    </tr>\n",
       "    <tr>\n",
       "      <th>PASSPORT</th>\n",
       "      <td>31</td>\n",
       "      <td>29.245283</td>\n",
       "    </tr>\n",
       "    <tr>\n",
       "      <th>PREFIX</th>\n",
       "      <td>27</td>\n",
       "      <td>25.471698</td>\n",
       "    </tr>\n",
       "    <tr>\n",
       "      <th>DRIVERS</th>\n",
       "      <td>22</td>\n",
       "      <td>20.754717</td>\n",
       "    </tr>\n",
       "    <tr>\n",
       "      <th>MIDDLE</th>\n",
       "      <td>17</td>\n",
       "      <td>16.037736</td>\n",
       "    </tr>\n",
       "  </tbody>\n",
       "</table>\n",
       "</div>"
      ],
      "text/plain": [
       "           Missing Values  Percent Missing\n",
       "SUFFIX                106       100.000000\n",
       "DEATHDATE             100        94.339623\n",
       "MAIDEN                 78        73.584906\n",
       "MARITAL                42        39.622642\n",
       "FIPS                   35        33.018868\n",
       "PASSPORT               31        29.245283\n",
       "PREFIX                 27        25.471698\n",
       "DRIVERS                22        20.754717\n",
       "MIDDLE                 17        16.037736"
      ]
     },
     "execution_count": 247,
     "metadata": {},
     "output_type": "execute_result"
    }
   ],
   "source": [
    "# Count and percentage of missing values\n",
    "missing_counts = synthea_patients_df.isnull().sum()\n",
    "missing_percent = (missing_counts / len(synthea_patients_df)) * 100\n",
    "\n",
    "missing_summary = pd.DataFrame({\n",
    "    'Missing Values': missing_counts,\n",
    "    'Percent Missing': missing_percent\n",
    "}).query('`Missing Values` > 0').sort_values('Percent Missing', ascending=False)\n",
    "\n",
    "missing_summary\n"
   ]
  },
  {
   "cell_type": "markdown",
   "id": "ae61ad2a-6f19-4fc1-bd08-50e0399abdf9",
   "metadata": {},
   "source": [
    "#### **4.4 Data Preprocessing**"
   ]
  },
  {
   "cell_type": "code",
   "execution_count": 260,
   "id": "f08245b1-e802-4f15-ad0f-ea1d718b753c",
   "metadata": {},
   "outputs": [],
   "source": [
    "# Drop columns only if they exist in the DataFrame\n",
    "drop_cols = ['SUFFIX', 'MAIDEN', 'PASSPORT', 'PREFIX', 'DRIVERS', 'MIDDLE']\n",
    "synthea_patients_df.drop(columns=drop_cols, errors='ignore', inplace=True)\n"
   ]
  },
  {
   "cell_type": "code",
   "execution_count": 258,
   "id": "747b3416-960c-4d5a-a1f8-a3b03612ecc4",
   "metadata": {},
   "outputs": [
    {
     "data": {
      "text/plain": [
       "['Id',\n",
       " 'BIRTHDATE',\n",
       " 'DEATHDATE',\n",
       " 'SSN',\n",
       " 'FIRST',\n",
       " 'LAST',\n",
       " 'MARITAL',\n",
       " 'RACE',\n",
       " 'ETHNICITY',\n",
       " 'GENDER',\n",
       " 'BIRTHPLACE',\n",
       " 'ADDRESS',\n",
       " 'CITY',\n",
       " 'STATE',\n",
       " 'COUNTY',\n",
       " 'FIPS',\n",
       " 'ZIP',\n",
       " 'LAT',\n",
       " 'LON',\n",
       " 'HEALTHCARE_EXPENSES',\n",
       " 'HEALTHCARE_COVERAGE',\n",
       " 'INCOME',\n",
       " 'IS_ALIVE']"
      ]
     },
     "execution_count": 258,
     "metadata": {},
     "output_type": "execute_result"
    }
   ],
   "source": [
    "synthea_patients_df.columns.tolist()\n"
   ]
  },
  {
   "cell_type": "markdown",
   "id": "e50b1a45-73d0-4a65-8520-5ae0248d96c2",
   "metadata": {},
   "source": [
    "#### **4.5 Data Visualized**"
   ]
  },
  {
   "cell_type": "markdown",
   "id": "df8c3a28-b6bf-41bf-b953-24bc05aee11d",
   "metadata": {},
   "source": [
    "To understand the structure of the synthetic patient data, we visualized several key demographic variables. These plots help us evaluate data distribution, detect imbalance, and guide future data cleaning or feature engineering.\n",
    "\n",
    "- **Gender & Race** distributions highlight population characteristics.\n",
    "- **Income & Expenses** provide insight into socioeconomic trends, which may affect healthcare behavior or access."
   ]
  },
  {
   "cell_type": "markdown",
   "id": "68dc7aa1-ef83-4076-afa4-f44023b4e905",
   "metadata": {},
   "source": [
    "##### **4.5.1 Bar Plot for GENDER**\n",
    "To show gender distribution — good for understanding potential bias or imbalance."
   ]
  },
  {
   "cell_type": "code",
   "execution_count": 264,
   "id": "6c3b1919-ab31-43c5-90e7-49226f3cf63e",
   "metadata": {},
   "outputs": [
    {
     "data": {
      "image/png": "[encoded data removed]",
      "text/plain": [
       "<Figure size 500x400 with 1 Axes>"
      ]
     },
     "metadata": {},
     "output_type": "display_data"
    }
   ],
   "source": [
    "plt.figure(figsize=(5, 4))\n",
    "sns.countplot(x='GENDER', data=synthea_patients_df, palette='Set2')\n",
    "plt.title('Patient Gender Distribution')\n",
    "plt.xlabel('Gender')\n",
    "plt.ylabel('Count')\n",
    "plt.tight_layout()\n",
    "plt.show()\n"
   ]
  },
  {
   "cell_type": "markdown",
   "id": "0217207c-286b-46f4-8b80-7553b3653868",
   "metadata": {},
   "source": [
    "##### **4.5.2 Bar Plot for GENDER**"
   ]
  },
  {
   "cell_type": "code",
   "execution_count": 266,
   "id": "da4acfb7-1775-49cf-9416-936418e2bb29",
   "metadata": {},
   "outputs": [
    {
     "data": {
      "image/png": "[encoded data removed]",
      "text/plain": [
       "<Figure size 700x400 with 1 Axes>"
      ]
     },
     "metadata": {},
     "output_type": "display_data"
    }
   ],
   "source": [
    "plt.figure(figsize=(7, 4))\n",
    "sns.countplot(y='RACE', data=synthea_patients_df, palette='Set3', order=synthea_patients_df['RACE'].value_counts().index)\n",
    "plt.title('Patient Race Distribution')\n",
    "plt.xlabel('Count')\n",
    "plt.ylabel('Race')\n",
    "plt.tight_layout()\n",
    "plt.show()\n"
   ]
  },
  {
   "cell_type": "markdown",
   "id": "3622ee96-f1ae-4cce-bd14-b551141d603d",
   "metadata": {},
   "source": [
    "##### **4.5.3 Histogram for INCOME**"
   ]
  },
  {
   "cell_type": "code",
   "execution_count": 268,
   "id": "2c1ef556-6de4-45ed-8f0e-77eaa2a8ccfb",
   "metadata": {},
   "outputs": [
    {
     "data": {
      "image/png": "[encoded data removed]",
      "text/plain": [
       "<Figure size 600x400 with 1 Axes>"
      ]
     },
     "metadata": {},
     "output_type": "display_data"
    }
   ],
   "source": [
    "plt.figure(figsize=(6, 4))\n",
    "sns.histplot(synthea_patients_df['INCOME'], bins=20, kde=True, color='skyblue')\n",
    "plt.title('Distribution of Patient Income')\n",
    "plt.xlabel('Income ($)')\n",
    "plt.ylabel('Number of Patients')\n",
    "plt.tight_layout()\n",
    "plt.show()\n"
   ]
  },
  {
   "cell_type": "markdown",
   "id": "77b202c1-7ae3-423c-a685-8ed779670a01",
   "metadata": {},
   "source": [
    "<h2>IV. Conclusion</h2>"
   ]
  },
  {
   "cell_type": "markdown",
   "id": "2b9fce8e-a2da-4c7e-9ff6-71523dbeddd6",
   "metadata": {},
   "source": [
    "In this second progress report, we successfully completed major foundational steps required for developing a robust healthcare fraud detection model. Our work focused on organizing and cleaning three major datasets (CMS, Kaggle, Synthea), performing exploratory data analysis, handling missing values, capping outliers, and visualizing key patterns within each data source.\n",
    "\n",
    "Key insights include:\n",
    "- The **CMS dataset** revealed significant variance in average submitted charges, with important patterns by provider geography and service.\n",
    "- The **Kaggle dataset** displayed a clear class imbalance in the `PotentialFraud` target variable (~9.4% fraud cases), confirming the need for advanced balancing techniques.\n",
    "- The **Synthea dataset** provided rich synthetic patient-level information, which we cleaned and analyzed for demographic trends such as gender, income, race, and healthcare coverage.\n",
    "\n",
    "Through descriptive statistics and visualizations, we identified several features that may play a role in predicting fraudulent behavior. We also addressed structural issues in the datasets to ensure compatibility for future modeling.\n",
    "\n",
    "Looking ahead, our next steps will involve:\n",
    "- Merging additional data tables (e.g., inpatient, outpatient, claims)\n",
    "- Conducting feature engineering and transformation\n",
    "- Training a variety of classification models (logistic regression, decision trees, SVM, boosting, clustering)\n",
    "- Evaluating performance with metrics appropriate for imbalanced datasets\n",
    "\n",
    "We remain confident in our timeline and group coordination, and we are well-positioned to complete the modeling, interpretation, and final reporting stages of this project.\n"
   ]
  },
  {
   "cell_type": "markdown",
   "id": "64b2687d-5dbe-49b8-92c1-4b01f7ad5d0c",
   "metadata": {},
   "source": [
    "## GitHub Repository\n",
    "\n",
    "The full code, data handling process, and visualization scripts are available on GitHub:  \n",
    "🔗 https://github.com/nhanizDee/Predicting-Health-Insurance-Fraud-Using-Machine-Learning\n"
   ]
  },
  {
   "cell_type": "code",
   "execution_count": null,
   "id": "1f67133c-a1e7-473e-9158-715af453be40",
   "metadata": {},
   "outputs": [],
   "source": []
  }
 ],
 "metadata": {
  "kernelspec": {
   "display_name": "Python [conda env:x86_64]",
   "language": "python",
   "name": "conda-env-x86_64-py"
  },
  "language_info": {
   "codemirror_mode": {
    "name": "ipython",
    "version": 3
   },
   "file_extension": ".py",
   "mimetype": "text/x-python",
   "name": "python",
   "nbconvert_exporter": "python",
   "pygments_lexer": "ipython3",
   "version": "3.12.7"
  }
 },
 "nbformat": 4,
 "nbformat_minor": 5
}
